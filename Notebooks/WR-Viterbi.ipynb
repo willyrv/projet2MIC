{
 "cells": [
  {
   "cell_type": "code",
   "execution_count": 75,
   "metadata": {
    "collapsed": true
   },
   "outputs": [],
   "source": [
    "from math import log\n",
    "\n",
    "\n",
    "def viterbi(obs_states, hidden_states, init_prob, trans_prob, emis_prob):\n",
    "    d_viterbi = []\n",
    "    # Initialisation\n",
    "    log_probabilities = [log(init_prob[k]) + log(emis_prob[k][obs_states[0]]) for k in hidden_states]\n",
    "    previous_state = None\n",
    "    d_viterbi.append({\"log_prob\": log_probabilities, \"prev_s\" : previous_state})\n",
    "    # Do Viterbi\n",
    "    for i in range(1, len(obs_states)):\n",
    "        log_probabilities = []\n",
    "        previous_state = []\n",
    "        for l in hidden_states:\n",
    "            trans_prob_to_l = [d_viterbi[i-1][\"log_prob\"][k] +\\\n",
    "                                log(trans_prob[k][l]) for k in hidden_states]\n",
    "            max_log_prob = max(trans_prob_to_l)\n",
    "            log_probabilities.append(max_log_prob + log(emis_prob[l][obs_states[i]]))\n",
    "            previous_state.append(trans_prob_to_l.index(max_log_prob))\n",
    "        d_viterbi.append({\"log_prob\": log_probabilities, \"prev_s\": previous_state})\n",
    "    # Last state\n",
    "    last_prob = max(d_viterbi[-1][\"log_prob\"])\n",
    "    last_state = d_viterbi[-1][\"log_prob\"].index(last_prob)\n",
    "    # Tracing back\n",
    "    h_states = [0 for i in range(len(obs_states))]\n",
    "    h_states[-1] = last_state\n",
    "    for i in range(1, len(obs_states)):\n",
    "        prev_state = d_viterbi[-i][\"prev_s\"][h_states[-i]]\n",
    "        h_states[-i-1] = prev_state\n",
    "    return (h_states, last_prob)\n",
    "    "
   ]
  },
  {
   "cell_type": "code",
   "execution_count": 50,
   "metadata": {
    "collapsed": true
   },
   "outputs": [],
   "source": [
    "import random\n",
    "from dishonest_casino import dishonest_casino_play\n",
    "\n",
    "fair_prob = [1./6, 1./6, 1./6, 1./6, 1./6, 1./6]\n",
    "unfair_prob = [1./10, 1./10, 1./10, 1./10, 1./10, 1./2]\n",
    "initial_prob = [0.5, 0.5]\n",
    "switch_to_loaded_dice_prob = 0.05\n",
    "switch_to_fair_dice_prob = 0.1\n",
    "n = 200000\n",
    "\n",
    "h, v = dishonest_casino_play(n=n, fair_prob=fair_prob, unfair_prob=unfair_prob,\n",
    "                             prob_switch_to_unfair=switch_to_loaded_dice_prob,\n",
    "                             prob_switch_to_fair=switch_to_fair_dice_prob,\n",
    "                             initial_dice=random.randint(0,1))\n"
   ]
  },
  {
   "cell_type": "code",
   "execution_count": 51,
   "metadata": {
    "collapsed": true
   },
   "outputs": [],
   "source": [
    "obs_states = [i-1 for i in v]\n",
    "hidden_states = [0, 1]\n",
    "initial_prob = [0.5, 0.5]\n",
    "trans_prob = [[0.95, 0.05], [0.1, 0.9]]\n",
    "emis_prob = [[1./6, 1./6, 1./6, 1./6, 1./6, 1./6],\n",
    "             [0.1, 0.1, 0.1, 0.1, 0.1, 0.5]]\n",
    "\n",
    "estim_h, prob = viterbi(obs_states, hidden_states, initial_prob, trans_prob, emis_prob)"
   ]
  },
  {
   "cell_type": "code",
   "execution_count": 57,
   "metadata": {},
   "outputs": [],
   "source": [
    "def compute_viterbi_accuracy(sample_size, fair_prob, unfair_prob,\n",
    "                             prob_switch_to_unfair, prob_switch_to_fair,\n",
    "                             trans_prob, emis_prob):\n",
    "    h, v = dishonest_casino_play(n=sample_size, fair_prob=fair_prob, unfair_prob=unfair_prob,\n",
    "                             prob_switch_to_unfair=switch_to_loaded_dice_prob,\n",
    "                             prob_switch_to_fair=switch_to_fair_dice_prob,\n",
    "                             initial_dice=random.randint(0,1))\n",
    "    obs_states = [i-1 for i in v]\n",
    "    estim_h, prob = viterbi(obs_states, hidden_states=[0, 1], init_prob=[0.5, 0.5], \n",
    "                            trans_prob=trans_prob, emis_prob=emis_prob)\n",
    "    failed = [abs(i-j) for (i, j) in zip(h, estim_h)]\n",
    "    accuracy = 1 - sum(failed)/len(failed)\n",
    "    return accuracy\n",
    "    "
   ]
  },
  {
   "cell_type": "code",
   "execution_count": 93,
   "metadata": {},
   "outputs": [
    {
     "data": {
      "text/plain": [
       "0.8366666666666667"
      ]
     },
     "execution_count": 93,
     "metadata": {},
     "output_type": "execute_result"
    }
   ],
   "source": [
    "compute_viterbi_accuracy(300, fair_prob, unfair_prob,\n",
    "                             switch_to_loaded_dice_prob, switch_to_fair_dice_prob,\n",
    "                             trans_prob, emis_prob)"
   ]
  },
  {
   "cell_type": "code",
   "execution_count": 52,
   "metadata": {},
   "outputs": [
    {
     "name": "stdout",
     "output_type": "stream",
     "text": [
      "0.796915\n"
     ]
    }
   ],
   "source": [
    "failed = [abs(i-j) for (i, j) in zip(h, estim_h)]\n",
    "accuracy = 1 - sum(failed)/len(failed)\n",
    "print(accuracy)"
   ]
  },
  {
   "cell_type": "code",
   "execution_count": 8,
   "metadata": {},
   "outputs": [],
   "source": [
    "def viterbi2(obs, states, start_p, trans_p, emit_p):\n",
    "    V = [{}]\n",
    "    for st in states:\n",
    "        V[0][st] = {\"prob\": start_p[st] * emit_p[st][obs[0]], \"prev\": None}\n",
    "    # Run Viterbi when t > 0\n",
    "    for t in range(1, len(obs)):\n",
    "        V.append({})\n",
    "        for st in states:\n",
    "            max_tr_prob = max(V[t-1][prev_st][\"prob\"]*trans_p[prev_st][st] for prev_st in states)\n",
    "            for prev_st in states:\n",
    "                if V[t-1][prev_st][\"prob\"] * trans_p[prev_st][st] == max_tr_prob:\n",
    "                    max_prob = max_tr_prob * emit_p[st][obs[t]]\n",
    "                    V[t][st] = {\"prob\": max_prob, \"prev\": prev_st}\n",
    "                    break\n",
    "    #for line in dptable(V):\n",
    "    #    print(line)\n",
    "    opt = []\n",
    "    # The highest probability\n",
    "    max_prob = max(value[\"prob\"] for value in V[-1].values())\n",
    "    previous = None\n",
    "    # Get most probable state and its backtrack\n",
    "    for st, data in V[-1].items():\n",
    "        if data[\"prob\"] == max_prob:\n",
    "            opt.append(st)\n",
    "            previous = st\n",
    "            break\n",
    "    # Follow the backtrack till the first observation\n",
    "    for t in range(len(V) - 2, -1, -1):\n",
    "        opt.insert(0, V[t + 1][previous][\"prev\"])\n",
    "        previous = V[t + 1][previous][\"prev\"]\n",
    "    return (opt, max_prob)\n",
    "\n",
    "    #print 'The steps of states are ' + ' '.join(opt) + ' with highest probability of %s' % max_prob\n",
    "\n",
    "def dptable(V):\n",
    "    # Print a table of steps from dictionary\n",
    "    yield \" \".join((\"%12d\" % i) for i in range(len(V)))\n",
    "    for state in V[0]:\n",
    "        yield \"%.7s: \" % state + \" \".join(\"%.7s\" % (\"%f\" % v[state][\"prob\"]) for v in V)"
   ]
  },
  {
   "cell_type": "code",
   "execution_count": 9,
   "metadata": {},
   "outputs": [],
   "source": [
    "h2, prob2 = viterbi2(obs_states, [0, 1], [0.5, 0.5], trans_prob, emis_prob)"
   ]
  },
  {
   "cell_type": "code",
   "execution_count": 10,
   "metadata": {},
   "outputs": [
    {
     "name": "stdout",
     "output_type": "stream",
     "text": [
      "0.8033333333333333\n"
     ]
    }
   ],
   "source": [
    "failed2 = [abs(i-j) for i,j in zip(h, h2)]\n",
    "accuracy2 = 1 - sum(failed2)/len(failed2)\n",
    "\n",
    "print(accuracy2)"
   ]
  },
  {
   "cell_type": "code",
   "execution_count": 11,
   "metadata": {},
   "outputs": [
    {
     "data": {
      "text/plain": [
       "3.916993678073754e-241"
      ]
     },
     "execution_count": 11,
     "metadata": {},
     "output_type": "execute_result"
    }
   ],
   "source": [
    "prob2"
   ]
  },
  {
   "cell_type": "code",
   "execution_count": 12,
   "metadata": {},
   "outputs": [
    {
     "data": {
      "text/plain": [
       "-553.5576829708554"
      ]
     },
     "execution_count": 12,
     "metadata": {},
     "output_type": "execute_result"
    }
   ],
   "source": [
    "prob"
   ]
  },
  {
   "cell_type": "code",
   "execution_count": 13,
   "metadata": {},
   "outputs": [
    {
     "data": {
      "text/plain": [
       "-553.5576829708541"
      ]
     },
     "execution_count": 13,
     "metadata": {},
     "output_type": "execute_result"
    }
   ],
   "source": [
    "log(prob2)"
   ]
  },
  {
   "cell_type": "code",
   "execution_count": 91,
   "metadata": {
    "collapsed": true
   },
   "outputs": [],
   "source": [
    "# Doing histogram\n",
    "\n",
    "accuracy_list = []\n",
    "prob_list = []\n",
    "for i in range(100000):\n",
    "    accuracy_list.append(compute_viterbi_accuracy(300, fair_prob, unfair_prob,\n",
    "                             switch_to_loaded_dice_prob, switch_to_fair_dice_prob,\n",
    "                             trans_prob, emis_prob))"
   ]
  },
  {
   "cell_type": "code",
   "execution_count": 92,
   "metadata": {},
   "outputs": [
    {
     "data": {
      "text/plain": [
       "(array([  1.00000000e+00,   1.00000000e+00,   0.00000000e+00,\n",
       "          2.00000000e+00,   3.00000000e+00,   7.00000000e+00,\n",
       "          1.50000000e+01,   1.60000000e+01,   2.60000000e+01,\n",
       "          5.10000000e+01,   8.10000000e+01,   8.70000000e+01,\n",
       "          1.80000000e+02,   1.83000000e+02,   2.76000000e+02,\n",
       "          3.99000000e+02,   5.73000000e+02,   7.07000000e+02,\n",
       "          9.29000000e+02,   1.14000000e+03,   1.44900000e+03,\n",
       "          1.86400000e+03,   2.23000000e+03,   2.77100000e+03,\n",
       "          3.26700000e+03,   5.17800000e+03,   4.47900000e+03,\n",
       "          4.95200000e+03,   5.64900000e+03,   5.97500000e+03,\n",
       "          6.03100000e+03,   6.40900000e+03,   6.40400000e+03,\n",
       "          6.12900000e+03,   5.81400000e+03,   5.36800000e+03,\n",
       "          4.79000000e+03,   5.35000000e+03,   3.25200000e+03,\n",
       "          2.42700000e+03,   1.90200000e+03,   1.42500000e+03,\n",
       "          8.94000000e+02,   6.38000000e+02,   3.59000000e+02,\n",
       "          1.71000000e+02,   9.40000000e+01,   3.40000000e+01,\n",
       "          1.40000000e+01,   4.00000000e+00]),\n",
       " array([ 0.47666667,  0.48693333,  0.4972    ,  0.50746667,  0.51773333,\n",
       "         0.528     ,  0.53826667,  0.54853333,  0.5588    ,  0.56906667,\n",
       "         0.57933333,  0.5896    ,  0.59986667,  0.61013333,  0.6204    ,\n",
       "         0.63066667,  0.64093333,  0.6512    ,  0.66146667,  0.67173333,\n",
       "         0.682     ,  0.69226667,  0.70253333,  0.7128    ,  0.72306667,\n",
       "         0.73333333,  0.7436    ,  0.75386667,  0.76413333,  0.7744    ,\n",
       "         0.78466667,  0.79493333,  0.8052    ,  0.81546667,  0.82573333,\n",
       "         0.836     ,  0.84626667,  0.85653333,  0.8668    ,  0.87706667,\n",
       "         0.88733333,  0.8976    ,  0.90786667,  0.91813333,  0.9284    ,\n",
       "         0.93866667,  0.94893333,  0.9592    ,  0.96946667,  0.97973333,\n",
       "         0.99      ]),\n",
       " <a list of 50 Patch objects>)"
      ]
     },
     "execution_count": 92,
     "metadata": {},
     "output_type": "execute_result"
    },
    {
     "data": {
      "image/png": "[encoded data removed]",
      "text/plain": [
       "<matplotlib.figure.Figure at 0x7f0051b97d68>"
      ]
     },
     "metadata": {},
     "output_type": "display_data"
    }
   ],
   "source": [
    "plt.hist(accuracy_list, bins = 50)"
   ]
  },
  {
   "cell_type": "code",
   "execution_count": 26,
   "metadata": {
    "collapsed": true
   },
   "outputs": [],
   "source": [
    "# Doing histogram for Wikipedia's method\n",
    "\n",
    "n = 300\n",
    "accuracy_list = []\n",
    "prob_list = []\n",
    "for i in range(1000):\n",
    "    h, v = dishonest_casino_play(n=n, fair_prob=fair_prob, unfair_prob=unfair_prob,\n",
    "                             prob_switch_to_unfair=switch_to_loaded_dice_prob,\n",
    "                             prob_switch_to_fair=switch_to_fair_dice_prob,\n",
    "                             initial_dice=random.randint(0,1))\n",
    "    estim_h, prob = viterbi2(obs_states, hidden_states, initial_prob, trans_prob, emis_prob)\n",
    "    failed = [abs(i-j) for i, j in zip(h, estim_h)]\n",
    "    accuracy = 1 - sum(failed)/len(failed)\n",
    "    accuracy_list.append(accuracy)\n",
    "    prob_list.append(prob)"
   ]
  },
  {
   "cell_type": "code",
   "execution_count": 27,
   "metadata": {},
   "outputs": [
    {
     "data": {
      "text/plain": [
       "(array([   6.,   18.,   40.,  118.,  162.,  212.,  217.,  139.,   74.,   14.]),\n",
       " array([ 0.33666667,  0.39366667,  0.45066667,  0.50766667,  0.56466667,\n",
       "         0.62166667,  0.67866667,  0.73566667,  0.79266667,  0.84966667,\n",
       "         0.90666667]),\n",
       " <a list of 10 Patch objects>)"
      ]
     },
     "execution_count": 27,
     "metadata": {},
     "output_type": "execute_result"
    },
    {
     "data": {
      "image/png": "[encoded data removed]",
      "text/plain": [
       "<matplotlib.figure.Figure at 0x7f0052209080>"
      ]
     },
     "metadata": {},
     "output_type": "display_data"
    }
   ],
   "source": [
    "plt.hist(accuracy_list)"
   ]
  },
  {
   "cell_type": "code",
   "execution_count": null,
   "metadata": {
    "collapsed": true
   },
   "outputs": [],
   "source": []
  }
 ],
 "metadata": {
  "kernelspec": {
   "display_name": "Python 3",
   "language": "python",
   "name": "python3"
  },
  "language_info": {
   "codemirror_mode": {
    "name": "ipython",
    "version": 3
   },
   "file_extension": ".py",
   "mimetype": "text/x-python",
   "name": "python",
   "nbconvert_exporter": "python",
   "pygments_lexer": "ipython3",
   "version": "3.6.3"
  }
 },
 "nbformat": 4,
 "nbformat_minor": 2
}
