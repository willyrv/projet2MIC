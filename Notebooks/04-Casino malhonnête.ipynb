{
 "cells": [
  {
   "cell_type": "code",
   "execution_count": 1,
   "metadata": {},
   "outputs": [],
   "source": [
    "import numpy as np\n",
    "import matplotlib.pyplot as plt"
   ]
  },
  {
   "cell_type": "code",
   "execution_count": 2,
   "metadata": {},
   "outputs": [],
   "source": [
    "A = np.array([[.95,.05],[.1,.9]])\n",
    "B = np.array([[1./6.,1./6.,1./6.,1./6.,1./6.,1./6.],[.1,.1,.1,.1,.1,.5]])"
   ]
  },
  {
   "cell_type": "markdown",
   "metadata": {},
   "source": [
    "Algorithmie\n",
    "======\n",
    "On va intensivement utiliser les fonctions `np.cumsum` et `np.searchsorted`. On pourrait s'amuser à les recoder nous même mais ce n'est pas le but de ce TP"
   ]
  },
  {
   "cell_type": "code",
   "execution_count": 3,
   "metadata": {},
   "outputs": [
    {
     "name": "stdout",
     "output_type": "stream",
     "text": [
      "[0.16666667 0.16666667 0.16666667 0.16666667 0.16666667 0.16666667]\n",
      "on applique la function cumsum on a :[0.16666667 0.33333333 0.5        0.66666667 0.83333333 1.        ]\n",
      "on a tire 3 nombres : (0.8584894635677623, 0.29380395621028943, 0.9649426240643753)\n",
      "maintenant regardons le resultat de searchsorted :(5, 1, 5)\n"
     ]
    }
   ],
   "source": [
    "premiereLigneB = B[0,:]\n",
    "print(premiereLigneB)\n",
    "premiereLigneSommee = np.cumsum(premiereLigneB)\n",
    "print(\"on applique la function cumsum on a :\"+str(premiereLigneSommee))\n",
    "tirageNbAleatoire1 = np.random.rand()\n",
    "tirageNbAleatoire2 = np.random.rand()\n",
    "tirageNbAleatoire3 = np.random.rand()\n",
    "print(\"on a tire 3 nombres : \"+str((tirageNbAleatoire1,tirageNbAleatoire2,tirageNbAleatoire3)))\n",
    "print(\"maintenant regardons le resultat de searchsorted :\"+str((np.searchsorted(premiereLigneSommee,tirageNbAleatoire1),np.searchsorted(premiereLigneSommee,tirageNbAleatoire2),np.searchsorted(premiereLigneSommee,tirageNbAleatoire3))))\n"
   ]
  },
  {
   "cell_type": "markdown",
   "metadata": {},
   "source": [
    "> 1. **Expliquez** avec vos mots quels à quoi servent ces fonctions.\n",
    "> 2. **Comment** pourrions nous nous en servir ?\n",
    "\n",
    "=> Votre réponse ici <="
   ]
  },
  {
   "cell_type": "code",
   "execution_count": 4,
   "metadata": {},
   "outputs": [],
   "source": [
    "def dc(A,B,Pdepart,nEtat):\n",
    "    etat = []\n",
    "    valeurDuJeu = []\n",
    "    etatDebut = 1 if np.random.rand() < Pdepart[0] else 2\n",
    "    etat += [etatDebut]\n",
    "    De1somme = np.cumsum(B[0,:])\n",
    "    De2somme = np.cumsum(B[1,:])\n",
    "    valAleat = np.random.rand()\n",
    "    valeurDebut = np.searchsorted(De1somme,valAleat)+1 if etat[-1] == 1 else np.searchsorted(De2somme,valAleat)+1\n",
    "    valeurDuJeu += [valeurDebut]\n",
    "    n = 1\n",
    "    T1Somme = np.cumsum(A[0,:])\n",
    "    T2Somme = np.cumsum(A[1,:])\n",
    "    while n < nEtat:\n",
    "        valAleatEtat = np.random.rand()\n",
    "        etatCourant = np.searchsorted(T1Somme,valAleatEtat) +1 if etat[-1] == 1 else np.searchsorted(T2Somme,valAleatEtat)+1\n",
    "        etat += [etatCourant]\n",
    "        valAleat = np.random.rand()\n",
    "        valeurDe = np.searchsorted(De1somme,valAleat)+1 if etat[-1] == 1 else np.searchsorted(De2somme,valAleat)+1\n",
    "        valeurDuJeu += [valeurDe]\n",
    "        n += 1\n",
    "    return np.array(etat),np.array(valeurDuJeu)\n",
    "    "
   ]
  },
  {
   "cell_type": "code",
   "execution_count": 5,
   "metadata": {},
   "outputs": [
    {
     "name": "stdout",
     "output_type": "stream",
     "text": [
      "[1 1 1 1 1 1 1 1 1 1 1 1 1 1 1 1 1 2 2 2 2 2 2 2 2 2 2 2 1 1 1 1 1 1 1 1 1\n",
      " 1 1 2 2 1 2 2 2 2 2 2 2 2 2 2 2 2 2 2 2 2 2 1 1 1 1 1 1 1 1 1 1 1 2 2 1 1\n",
      " 1 1 1 2 2 2 2 2 2 2 2 2 2 2 2 2 2 2 2 2 2 2 2 2 2 2] [3 4 1 2 5 3 5 1 3 4 3 3 6 1 3 2 4 6 1 6 4 6 6 1 6 3 5 6 2 1 4 6 4 5 2 2 2\n",
      " 5 5 3 2 6 6 3 6 6 3 6 5 6 3 6 6 6 2 3 4 6 2 1 1 5 6 3 6 5 3 2 5 6 6 6 1 2\n",
      " 5 1 4 4 6 1 4 3 6 2 1 1 6 1 6 5 4 5 6 1 6 6 6 6 6 4]\n"
     ]
    }
   ],
   "source": [
    "pdepart = np.array([.5,.5])\n",
    "etats, valDes = dc(A,B,pdepart,100)\n",
    "print(etats,valDes)"
   ]
  },
  {
   "cell_type": "code",
   "execution_count": 6,
   "metadata": {},
   "outputs": [
    {
     "data": {
      "image/png": "[encoded data removed]",
      "text/plain": [
       "<matplotlib.figure.Figure at 0x7fba9c5d0438>"
      ]
     },
     "metadata": {},
     "output_type": "display_data"
    }
   ],
   "source": [
    "# petit affichage des familles\n",
    "plt.figure(figsize=(16,4))\n",
    "etat1Indexes = np.where(etats == 1)[0]\n",
    "plt.plot(etat1Indexes+1,valDes[etat1Indexes],'og')\n",
    "etat2Indexes = np.where(etats==2)[0]\n",
    "plt.plot(etat2Indexes+1,valDes[etat2Indexes],'or')\n",
    "plt.show()\n"
   ]
  },
  {
   "cell_type": "markdown",
   "metadata": {},
   "source": [
    "## Algo Viterbi\n",
    "à partir du pseudo code : \n",
    "https://en.wikipedia.org/wiki/Viterbi_algorithm"
   ]
  },
  {
   "cell_type": "code",
   "execution_count": 7,
   "metadata": {},
   "outputs": [],
   "source": [
    "# pi intial distribution ici pdepart\n",
    "# y observation ici valDes\n",
    "def Viterbi(pi,y,A,B):\n",
    "    Tobserv = y.size\n",
    "    K = A.shape[0]\n",
    "    N = B.shape[1]\n",
    "    T1 = np.zeros((K,Tobserv))\n",
    "    T2 = np.zeros((K,Tobserv))\n",
    "    for i in range(K):\n",
    "        T1[i,0]=pi[i]*B[i,y[0]-1]\n",
    "        T2[i,0]=pi[i]*B[i,y[0]-1]\n",
    "    def takeDaMaxAndArg(T1,A,B,i,yi,j,K):\n",
    "        indMax = -1\n",
    "        currentMaximum = -42\n",
    "        for k in range(K):\n",
    "            value = T1[k]*A[k,j]*B[j,yi]\n",
    "            if value > currentMaximum :\n",
    "                currentMaximum = value\n",
    "                indMax = k\n",
    "        return currentMaximum,indMax\n",
    "        \n",
    "    for i in range(Tobserv-1):\n",
    "        for j in range(K):\n",
    "            maxi,arg = takeDaMaxAndArg(T1[:,i],A,B,i,y[i+1]-1,j,K)\n",
    "            T1[j,i+1] = maxi\n",
    "            T2[j,i+1] = arg\n",
    "    Z = np.zeros(Tobserv)\n",
    "    Z[-1] = int(np.argmax(T1[:,-1]))\n",
    "    for i in range(Z.shape[0]-1,0,-1):\n",
    "        Z[i-1] = T2[int(Z[i]),i]\n",
    "    \n",
    "    return Z\n",
    "    \n",
    "    "
   ]
  },
  {
   "cell_type": "code",
   "execution_count": 8,
   "metadata": {},
   "outputs": [],
   "source": [
    "etatsGuessed = Viterbi(pdepart,valDes,A,B)"
   ]
  },
  {
   "cell_type": "code",
   "execution_count": 9,
   "metadata": {},
   "outputs": [
    {
     "name": "stdout",
     "output_type": "stream",
     "text": [
      "[0. 0. 0. 0. 0. 0. 0. 0. 0. 0. 0. 0. 0. 0. 0. 0. 0. 0. 0. 0. 0. 0. 0. 0.\n",
      " 0. 0. 0. 0. 0. 0. 0. 0. 0. 0. 0. 0. 0. 0. 0. 0. 0. 1. 1. 1. 1. 1. 1. 1.\n",
      " 1. 1. 1. 1. 1. 1. 0. 0. 0. 0. 0. 0. 0. 0. 0. 0. 0. 0. 0. 0. 0. 0. 0. 0.\n",
      " 0. 0. 0. 0. 0. 0. 0. 0. 0. 0. 0. 0. 0. 0. 0. 0. 0. 0. 0. 0. 1. 1. 1. 1.\n",
      " 1. 1. 1. 1.]\n"
     ]
    }
   ],
   "source": [
    "print(etatsGuessed)"
   ]
  },
  {
   "cell_type": "code",
   "execution_count": null,
   "metadata": {
    "collapsed": true
   },
   "outputs": [],
   "source": []
  }
 ],
 "metadata": {
  "kernelspec": {
   "display_name": "Python 3",
   "language": "python",
   "name": "python3"
  },
  "language_info": {
   "codemirror_mode": {
    "name": "ipython",
    "version": 3
   },
   "file_extension": ".py",
   "mimetype": "text/x-python",
   "name": "python",
   "nbconvert_exporter": "python",
   "pygments_lexer": "ipython3",
   "version": "3.6.4"
  }
 },
 "nbformat": 4,
 "nbformat_minor": 2
}
