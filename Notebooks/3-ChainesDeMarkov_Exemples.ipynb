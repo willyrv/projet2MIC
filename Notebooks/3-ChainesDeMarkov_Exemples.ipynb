{
 "cells": [
  {
   "cell_type": "markdown",
   "metadata": {},
   "source": [
    "Nous allons voir dans ce notebook un exemple très basique d’une chaîne de Markov. Il s’agit de la **marche aléatoire**. Cet exemple est décrit plus en détail [ici](https://fr.wikipedia.org/wiki/Marche_al%C3%A9atoire#Marche_al%C3%A9atoire_discr%C3%A8te_%C3%A0_une_dimension). Pour plus d’information sur les marches aléatoires, vous pouvez lire la [page Wikipédia](https://fr.wikipedia.org/wiki/Marche_al%C3%A9atoire) dédiée à ce sujet. \n",
    "\n",
    "## Marche aléatoire discrète à une dimension\n",
    "\n",
    "Imaginons un bonhomme qui marche sur une linge droite. À chaque pas il a deux choix possibles :\n",
    "\n",
    "* Faire un pas en avant\n",
    "* Faire un pas en arrière \n",
    "\n",
    "Pour choisir où aller il tire à pile ou face avec une pièce dont la probabilité de sortir pile est égale à $p$.\n",
    "\n",
    "**Exercice 1:**  \n",
    "Écrire une fonction en python permettant de simuler le chemin parcouru par le bonhomme. La fonction prendra en entrée la probabilité d’aller en avant (*p*) et le nombre de pas (*n*). La fonction donnera comme résultat une liste de taille n avec les endroits visités.\n"
   ]
  },
  {
   "cell_type": "code",
   "execution_count": 1,
   "metadata": {
    "collapsed": true
   },
   "outputs": [],
   "source": [
    "import random\n",
    "import numpy as np\n",
    "import matplotlib.pyplot as plt\n",
    "\n",
    "% matplotlib inline\n",
    "\n",
    "# Solution\n",
    "def random_walk(p, n):\n",
    "    visited_positions = [0]\n",
    "    for i in range(n):\n",
    "        if random.random() < p:\n",
    "            visited_positions.append(visited_positions[-1] + 1)\n",
    "        else:\n",
    "            visited_positions.append(visited_positions[-1] - 1)\n",
    "    return visited_positions"
   ]
  },
  {
   "cell_type": "markdown",
   "metadata": {},
   "source": [
    "**Exercice 2 :**  \n",
    "Tracer le chemin parcouru par le bonhomme"
   ]
  },
  {
   "cell_type": "code",
   "execution_count": 2,
   "metadata": {},
   "outputs": [
    {
     "data": {
      "text/plain": [
       "[<matplotlib.lines.Line2D at 0x7fd1443f2e48>]"
      ]
     },
     "execution_count": 2,
     "metadata": {},
     "output_type": "execute_result"
    },
    {
     "data": {
      "image/png": "[encoded data removed]",
      "text/plain": [
       "<matplotlib.figure.Figure at 0x7fd16005ba58>"
      ]
     },
     "metadata": {},
     "output_type": "display_data"
    }
   ],
   "source": [
    "p = 0.5\n",
    "n = 1000\n",
    "visited_pos = random_walk(p, n)\n",
    "steps = [i for i in range(n+1)]\n",
    "plt.plot(steps, visited_pos)"
   ]
  },
  {
   "cell_type": "markdown",
   "metadata": {},
   "source": [
    "**Exercice 3 :**  \n",
    "Compter le nombre de fois où le bonhomme est passé par une position donnée."
   ]
  },
  {
   "cell_type": "code",
   "execution_count": 3,
   "metadata": {},
   "outputs": [
    {
     "name": "stdout",
     "output_type": "stream",
     "text": [
      "La position 0 a été visitée 12 fois\n"
     ]
    }
   ],
   "source": [
    "position = 0\n",
    "nb_visit_position = visited_pos.count(position)\n",
    "print(\"La position {} a été visitée {} fois\".format(position, nb_visit_position))"
   ]
  },
  {
   "cell_type": "markdown",
   "metadata": {},
   "source": [
    "## Modèle des urnes. Urnes d'Ehrenfest\n",
    "\n",
    "Un autre exemple très populaire de chaîne de Markov est le [modèle des urnes d'Ehrenfest](https://fr.wikipedia.org/wiki/Mod%C3%A8le_des_urnes_d%27Ehrenfest). L’exemple est décrit comme ceci : \n",
    "\n",
    "\n",
    "On considère deux urnes *A* et *B*, ainsi que *N* boules, numérotées de *1* à *N*. Initialement, toutes les boules se trouvent dans l'urne *A*. Le processus stochastique associé consiste à répéter l'opération suivante :\n",
    "Tirer au hasard un numéro *i* compris entre *1* et *N*, prendre la boule numéro *i*, la transférer dans l'urne où elle n'était pas.  \n",
    " Par convention, le premier instant est $\\displaystyle t_{0}=0$.\n",
    " \n",
    " Dans ce modèle, on suit au cours du temps $t$ (discret) le nombre total de boules $n(t)$ présentes dans l'urne *A*.\n",
    " \n",
    "**Exercice 4 :**  \n",
    "Pour $N=4$ boules, faire le *diagramme* et la *matrice de transition* de la chaîne de Markov du modèle décrit.\n",
    "\n",
    "*Solution*\n",
    "\n",
    "Le diagramme de la chaîne est :\n",
    "\n",
    "![diagramme](./images/urnes_diagram.jpg)\n",
    "\n",
    "Si on prend l'ordre suivant pour les états : $\\{4, 3, 2, 1, 0\\}$, la matrice de transition est :\n",
    "\n",
    "$$\n",
    "\\begin{bmatrix}\n",
    "0 & 1 & 0 & 0 & 0 \\\\ \n",
    "1/4 & 0 & 3/4 & 0 & 0 \\\\\n",
    "0 & 0 & 1/2 & 1/2 & 0 \\\\\n",
    "0 & 0 & 3/4 & 0 & 1/4 \\\\\n",
    "0 & 0 & 0 & 1 & 0\n",
    "\\end{bmatrix}\n",
    "$$\n",
    "\n",
    "\n",
    "**Exercice 5 :**  \n",
    " Écrire une fonction en python permettant de suivre le nombre de boules dans l’urne A. La fonction prendra comme entrée le nombre total de boules *n_balls* et le nombre de répétitions *n_rep*."
   ]
  },
  {
   "cell_type": "code",
   "execution_count": 4,
   "metadata": {
    "collapsed": true
   },
   "outputs": [],
   "source": [
    "# Solution\n",
    "def urnes(n_balls, n_rep):\n",
    "    n_balls_inA = [n_balls]\n",
    "    for i in range(n_rep):\n",
    "        if random.randint(1, n_balls) > n_balls_inA[-1]:\n",
    "            n_balls_inA.append(n_balls_inA[-1] + 1)\n",
    "        else:\n",
    "            n_balls_inA.append(n_balls_inA[-1] - 1)\n",
    "    return n_balls_inA\n"
   ]
  },
  {
   "cell_type": "code",
   "execution_count": 5,
   "metadata": {},
   "outputs": [
    {
     "data": {
      "text/plain": [
       "[4, 3, 2, 3, 4, 3, 2, 3, 4, 3, 2]"
      ]
     },
     "execution_count": 5,
     "metadata": {},
     "output_type": "execute_result"
    }
   ],
   "source": [
    "urnes(4, 10)"
   ]
  },
  {
   "cell_type": "markdown",
   "metadata": {
    "collapsed": true
   },
   "source": [
    "**Exercice 6:**  \n",
    "Tracer l'évolution du processus"
   ]
  },
  {
   "cell_type": "code",
   "execution_count": 6,
   "metadata": {},
   "outputs": [
    {
     "data": {
      "text/plain": [
       "[<matplotlib.lines.Line2D at 0x7fd1443292b0>]"
      ]
     },
     "execution_count": 6,
     "metadata": {},
     "output_type": "execute_result"
    },
    {
     "data": {
      "image/png": "[encoded data removed]",
      "text/plain": [
       "<matplotlib.figure.Figure at 0x7fd16005b898>"
      ]
     },
     "metadata": {},
     "output_type": "display_data"
    }
   ],
   "source": [
    "n_balls = 4\n",
    "n_rep = 100\n",
    "balls_inA = urnes(n_balls, n_rep)\n",
    "\n",
    "time = [i for i in range(n_rep+1)]\n",
    "plt.plot(time, balls_inA)"
   ]
  },
  {
   "cell_type": "markdown",
   "metadata": {},
   "source": [
    "## Comportement en temps long "
   ]
  },
  {
   "cell_type": "code",
   "execution_count": 7,
   "metadata": {
    "collapsed": true
   },
   "outputs": [],
   "source": [
    "n_balls = 4\n",
    "n_rep = 1000000\n",
    "balls_inA = urnes(n_balls, n_rep)\n",
    "\n",
    "n_visits = [balls_inA.count(i) for i in range(n_balls+1)]\n",
    "freq = [float(n)/n_rep for n in n_visits]"
   ]
  },
  {
   "cell_type": "code",
   "execution_count": 8,
   "metadata": {},
   "outputs": [
    {
     "data": {
      "text/plain": [
       "[0.062821, 0.250708, 0.375257, 0.249292, 0.061923]"
      ]
     },
     "execution_count": 8,
     "metadata": {},
     "output_type": "execute_result"
    }
   ],
   "source": [
    "freq"
   ]
  },
  {
   "cell_type": "code",
   "execution_count": 9,
   "metadata": {
    "collapsed": true
   },
   "outputs": [],
   "source": [
    "transition_matrix = np.matrix([[0, 1, 0, 0, 0], \n",
    "                               [1./4, 0, 3./4, 0, 0],\n",
    "                               [0, 1./2, 0, 1./2, 0],\n",
    "                               [0, 0, 3./4, 0, 1./4],\n",
    "                               [0, 0, 0, 1, 0]])"
   ]
  },
  {
   "cell_type": "code",
   "execution_count": 10,
   "metadata": {
    "collapsed": true
   },
   "outputs": [],
   "source": [
    "initial_state = np.array([1, 0, 0, 0, 0])\n",
    "nb_step = 1000000\n",
    "prob = [np.dot(initial_state, transition_matrix)]\n",
    "for i in range(nb_step):\n",
    "    prob.append(np.dot(prob[-1], transition_matrix))\n",
    "inv_prob = np.true_divide(sum(prob), nb_step)"
   ]
  },
  {
   "cell_type": "code",
   "execution_count": 11,
   "metadata": {},
   "outputs": [
    {
     "data": {
      "text/plain": [
       "matrix([[ 0.06250017,  0.25000117,  0.375     ,  0.24999983,  0.06249983]])"
      ]
     },
     "execution_count": 11,
     "metadata": {},
     "output_type": "execute_result"
    }
   ],
   "source": [
    "inv_prob"
   ]
  },
  {
   "cell_type": "code",
   "execution_count": 12,
   "metadata": {
    "collapsed": true
   },
   "outputs": [],
   "source": [
    "v, M = np.linalg.eig(transition_matrix.transpose())"
   ]
  },
  {
   "cell_type": "code",
   "execution_count": 13,
   "metadata": {},
   "outputs": [
    {
     "data": {
      "text/plain": [
       "array([  1.00000000e+00,  -1.00000000e+00,  -5.00000000e-01,\n",
       "         1.34348360e-16,   5.00000000e-01])"
      ]
     },
     "execution_count": 13,
     "metadata": {},
     "output_type": "execute_result"
    }
   ],
   "source": [
    "v"
   ]
  },
  {
   "cell_type": "code",
   "execution_count": 14,
   "metadata": {},
   "outputs": [
    {
     "data": {
      "text/plain": [
       "matrix([[ 0.0625],\n",
       "        [ 0.25  ],\n",
       "        [ 0.375 ],\n",
       "        [ 0.25  ],\n",
       "        [ 0.0625]])"
      ]
     },
     "execution_count": 14,
     "metadata": {},
     "output_type": "execute_result"
    }
   ],
   "source": [
    "M[:, 0] / sum(M[:, 0])"
   ]
  },
  {
   "cell_type": "code",
   "execution_count": null,
   "metadata": {
    "collapsed": true
   },
   "outputs": [],
   "source": []
  }
 ],
 "metadata": {
  "kernelspec": {
   "display_name": "Python 3",
   "language": "python",
   "name": "python3"
  },
  "language_info": {
   "codemirror_mode": {
    "name": "ipython",
    "version": 3
   },
   "file_extension": ".py",
   "mimetype": "text/x-python",
   "name": "python",
   "nbconvert_exporter": "python",
   "pygments_lexer": "ipython3",
   "version": "3.6.3"
  }
 },
 "nbformat": 4,
 "nbformat_minor": 2
}
