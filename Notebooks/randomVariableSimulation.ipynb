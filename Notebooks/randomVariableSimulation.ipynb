{
 "cells": [
  {
   "cell_type": "markdown",
   "metadata": {},
   "source": [
    "# Simulating a random variable\n",
    "\n",
    "The objective of this notebook is to give a feeling of what a random variable is. We will do this by the mean of simulations. \n",
    "First we will simulate the experiment of tossing a coin. Then we will simulate the rolling of a die. \n",
    "We will build *histograms* using the outcome of these two experiments. This will lead us to the notion of *probability distribution function* in the case of a discrete random variable. \n",
    "\n",
    "Finnaly, we will code a function allowing to simulate values comming from a discrete random variable with an arbitrary *probability distribution*.\n"
   ]
  },
  {
   "cell_type": "code",
   "execution_count": 1,
   "metadata": {
    "collapsed": true
   },
   "outputs": [],
   "source": [
    "import random, bisect\n",
    "import matplotlib.pyplot as plt\n",
    "\n",
    "% matplotlib inline"
   ]
  },
  {
   "cell_type": "code",
   "execution_count": 2,
   "metadata": {
    "collapsed": false
   },
   "outputs": [],
   "source": [
    "# Some useful functions\n",
    "\n",
    "def flipCoin(n):\n",
    "    # Simulates n flips of a fair coin\n",
    "    values = []\n",
    "    for i in range(n):\n",
    "        s = random.random()\n",
    "        if s < 0.5:\n",
    "            values.append(0)\n",
    "        else:\n",
    "            values.append(1)\n",
    "    return(values)\n",
    "\n",
    "\n",
    "def rollDie(n):\n",
    "    # Simulates n rolls of a fair die\n",
    "    values = []\n",
    "    for i in range(n):\n",
    "        s = random.random()\n",
    "        if s < 1./6:\n",
    "            values.append(1)\n",
    "        elif s < 2./6:\n",
    "            values.append(2)\n",
    "        elif s < 3./6:\n",
    "            values.append(3)\n",
    "        elif s < 4./6:\n",
    "            values.append(4)\n",
    "        elif s < 5./6:\n",
    "            values.append(5)\n",
    "        else:\n",
    "            values.append(6)\n",
    "    return(values)\n",
    "\n",
    "def simulateRV(probVect, n):\n",
    "    # Simulates a Random Variable using a probability vector\n",
    "    values = []\n",
    "    if (min(probVect) < 0) or (sum(probVect) != 1):\n",
    "        print(\"No valid probability vector\")\n",
    "        return([])\n",
    "    p = [probVect[0]]\n",
    "    for i in range(1, len(probVect)):\n",
    "        p.append(p[-1] + probVect[i])\n",
    "    for i in range(n):\n",
    "        s = random.random()\n",
    "        values.append(bisect.bisect(p, s))\n",
    "    return(values)\n",
    "    "
   ]
  },
  {
   "cell_type": "markdown",
   "metadata": {
    "collapsed": false
   },
   "source": [
    "# Tossing a coin"
   ]
  },
  {
   "cell_type": "code",
   "execution_count": 3,
   "metadata": {
    "collapsed": false
   },
   "outputs": [],
   "source": [
    "n = 1000\n",
    "values = flipCoin(100)"
   ]
  },
  {
   "cell_type": "code",
   "execution_count": 4,
   "metadata": {
    "collapsed": false
   },
   "outputs": [
    {
     "name": "stdout",
     "output_type": "stream",
     "text": [
      "[1, 1, 1, 1, 1, 0, 0, 1, 0, 0, 1, 0, 1, 1, 0, 0, 0, 0, 0, 0, 0, 1, 1, 0, 0, 1, 0, 1, 1, 1, 1, 0, 0, 1, 1, 1, 1, 0, 0, 1, 1, 0, 1, 1, 1, 1, 1, 1, 1, 1, 1, 0, 0, 1, 1, 1, 1, 0, 0, 0, 1, 0, 1, 1, 1, 1, 1, 1, 0, 1, 1, 0, 1, 1, 0, 1, 1, 0, 1, 0, 0, 0, 0, 0, 1, 1, 1, 1, 1, 0, 0, 0, 0, 1, 1, 1, 0, 0, 1, 0]\n"
     ]
    }
   ],
   "source": [
    "print(values)"
   ]
  },
  {
   "cell_type": "markdown",
   "metadata": {
    "collapsed": false
   },
   "source": [
    "Let's count how many times we have each value\n"
   ]
  },
  {
   "cell_type": "code",
   "execution_count": 5,
   "metadata": {
    "collapsed": false
   },
   "outputs": [],
   "source": [
    "nb0 = values.count(0)\n",
    "nb1 = values.count(1)"
   ]
  },
  {
   "cell_type": "code",
   "execution_count": 6,
   "metadata": {
    "collapsed": false
   },
   "outputs": [
    {
     "name": "stdout",
     "output_type": "stream",
     "text": [
      "42 58\n"
     ]
    }
   ],
   "source": [
    "print(nb0, nb1)"
   ]
  },
  {
   "cell_type": "code",
   "execution_count": 7,
   "metadata": {
    "collapsed": false
   },
   "outputs": [
    {
     "data": {
      "image/png": "[encoded data removed]",
      "text/plain": [
       "<matplotlib.figure.Figure at 0x7f72ac490cc0>"
      ]
     },
     "metadata": {},
     "output_type": "display_data"
    }
   ],
   "source": [
    "fig = plt.figure()\n",
    "ax = fig.add_subplot(111)\n",
    "ax.hist(values, bins=[-0.5, 0.5, 1.5], histtype='bar', ec='black')\n",
    "ax.set_xticks([0, 1])\n",
    "ax.tick_params(labelsize=15)\n",
    "plt.show()"
   ]
  },
  {
   "cell_type": "code",
   "execution_count": 8,
   "metadata": {
    "collapsed": true
   },
   "outputs": [],
   "source": [
    "dValues = rollDie(100)"
   ]
  },
  {
   "cell_type": "code",
   "execution_count": 9,
   "metadata": {
    "collapsed": false
   },
   "outputs": [
    {
     "data": {
      "image/png": "[encoded data removed]",
      "text/plain": [
       "<matplotlib.figure.Figure at 0x7f72a9e096d8>"
      ]
     },
     "metadata": {},
     "output_type": "display_data"
    }
   ],
   "source": [
    "fig = plt.figure()\n",
    "ax = fig.add_subplot(111)\n",
    "ax.hist(dValues, bins=[0.5, 1.5, 2.5, 3.5, 4.5, 5.5, 6.5], histtype='bar', ec='black')\n",
    "ax.set_xticks([1, 2, 3, 4, 5, 6])\n",
    "ax.tick_params(labelsize=15)\n",
    "plt.show()"
   ]
  },
  {
   "cell_type": "markdown",
   "metadata": {},
   "source": [
    "To do\n",
    "------\n",
    "* Write a function that produce a histogram from a set of values\n",
    "* Use the function *simulateRV* to simulate discrete random values with any given distribution. Then, verify that the data follow the given distribution by making the corresponding histogram\n",
    "* Write functions to simulate values comming from other discrete random variables: Bernoulli, Binomial\n",
    "* Write a function to simulate values comming from a Poisson distribution\n"
   ]
  },
  {
   "cell_type": "code",
   "execution_count": null,
   "metadata": {
    "collapsed": true
   },
   "outputs": [],
   "source": []
  }
 ],
 "metadata": {
  "kernelspec": {
   "display_name": "Python 3",
   "language": "python",
   "name": "python3"
  },
  "language_info": {
   "codemirror_mode": {
    "name": "ipython",
    "version": 3
   },
   "file_extension": ".py",
   "mimetype": "text/x-python",
   "name": "python",
   "nbconvert_exporter": "python",
   "pygments_lexer": "ipython3",
   "version": "3.6.0"
  }
 },
 "nbformat": 4,
 "nbformat_minor": 2
}
