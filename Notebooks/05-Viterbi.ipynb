{
 "cells": [
  {
   "cell_type": "markdown",
   "metadata": {},
   "source": [
    "## Recovering the hidden states using Viterbi algorithm\n",
    "\n",
    "Avant de commencer nous allons répondre aux questions suivantes.\n",
    "\n",
    "\n",
    "### Q1\n",
    "\n",
    "Dans une urne on a 100 dés. On sait qu'il y a 25 qui sont pipés. Pour les dés pipés, la probabilité d'avoir un 6 est de 1/2 et la probabilité d'avoir n'importe quelle autre valeur est de 1/10. Les autres 75 dés sont non pipés et donc, toutes les valeurs ont la même probabilité.  \n",
    "On prend un dé au hasard dans l'urne et on fait trois lancés. On obtient \"666\".   \n",
    "a) Calculer la probabilité d'avoir tiré un dé pipé.  \n",
    "b) Calculer la probabilité d'avoir choisi un dé non pipé.\n"
   ]
  },
  {
   "cell_type": "markdown",
   "metadata": {},
   "source": [
    "**Solution**  \n",
    "\n",
    "On appellera $d_0$ l'evenement \"choisir un dé non pipé\" et $d_1$ \"choisir un dé pipé\".\n",
    "\n",
    "$$P(d_1 | (6,6,6))=\\frac{P((6,6,6) | d_1)P(d_1)}{P((6,6,6))}$$\n",
    "\n",
    "$$P(d_1) = 0.25$$\n",
    "\n",
    "$$P((6,6,6) | d_1) = (1/2)^3$$\n",
    "\n",
    "$$P((6,6,6)) = P((6,6,6) | d_1)P(d_1) + P((6,6,6) | d_0)P(d_0)$$\n",
    "\n",
    "$$P((6,6,6)) = (1/2)^3 * 0.25 + (1/6)^3 * 0.75 = 0.0347$$\n",
    "\n",
    "$$P(d_1 | (6,6,6)) = 0.8999 \\approx 0.9$$\n",
    "\n",
    "\n",
    "On au aussi\n",
    "\n",
    "$$P(d_0 | (6,6,6)) \\approx 0.1 $$"
   ]
  },
  {
   "cell_type": "markdown",
   "metadata": {},
   "source": [
    "### Q2\n",
    "\n",
    "Revenons maintenant à l'exemple du casino malhonnête. Le casino a un dé qui es pipé et un dé qui est juste. Pour commencer, il choisi un dé au hasard. Chaque dé a la même probabilité d'être pris pour commencer. Après chaque tirage, le casino peut changer le dé non pipé par le dé pipé avec probabilité de 0.05. De même, il peut changer le dé pipé par le dé non pipé avec probabilité de 0.1.   \n",
    "\n",
    "An appellera $A$ la matrice de transition, $B$ la matrice d'émission et $\\pi$ le vecteur de probabilité initial. On a donc :\n",
    "\n",
    "$$A=\\begin{bmatrix}0.95 & 0.05\\\\0.1 & 0.9\\end{bmatrix}$$\n",
    "\n",
    "$$B=\\begin{bmatrix}1/6 & 1/6 & 1/6 & 1/6 & 1/6 & 1/6\\\\\n",
    "1/10 & 1/10 & 1/10 & 1/10 & 1/10 & 1/2\\end{bmatrix}$$\n",
    "\n",
    "\n",
    "$$\\pi=\\left[\\begin{array}{c} 1/2 \\\\ 1/2\\end{array}\\right]$$\n",
    "\n",
    "\n",
    "On commence à jouer et on observe deux fois le numéro $6$. Comment trouver la séquence de dés utilisée lors des deux premiers qui explique au mieux ces valeurs ?"
   ]
  },
  {
   "cell_type": "markdown",
   "metadata": {},
   "source": [
    "**Solution**  \n",
    "Il faudrait calculer : $P(d_0d_0|(6, 6))$, $P(d_0d_1|(6, 6))$, $P(d_1d_0|(6, 6))$ et $P(d_1d_1|(6, 6))$.\n",
    "\n",
    "$$P(d_0d_0|(6, 6)) = \\frac{P((6, 6) | d_0d_0)P(d_0d_0)}{P((6, 6))}$$\n",
    "\n",
    "$$P((6, 6) | d_0d_0) = \\frac{1}{6} \\times \\frac{1}{6} = \\frac{1}{36}$$\n",
    "\n",
    "$$P(d_0d_0) = \\frac{1}{2} \\times 0.95 = 0.475$$\n",
    "\n",
    "$$P((6, 6)) = P((6, 6) | d_0d_0)P(d_0d_0) + P((6, 6) | d_0d_1)P(d_0d_1) +\n",
    "\\\\ P((6, 6) | d_1d_0)P(d_1d_0) + P((6, 6) | d_1d_1)P(d_1d_1)$$\n",
    "\n",
    "$$= \\frac{1}{6} \\times \\frac{1}{6} \\times  \\frac{1}{2} \\times 0.95 + \\frac{1}{6} \\times \\frac{1}{2} \\times  \\frac{1}{2} \\times 0.05 +\n",
    "\\frac{1}{2} \\times \\frac{1}{6} \\times  \\frac{1}{2} \\times 0.1 + \\frac{1}{2} \\times \\frac{1}{2} \\times  \\frac{1}{2} \\times 0.9$$\n",
    "\n",
    "$$ \\approx 0.132$$\n",
    "\n",
    "$$P(d_0d_0|(6, 6)) \\approx 0.0999$$\n",
    "\n",
    "De la même manière on peut calculer :\n",
    "\n",
    "$$P(d_0d_1|(6, 6)) \\approx 0.0158$$\n",
    "\n",
    "$$P(d_1d_0|(6, 6)) \\approx 0.03157$$\n",
    "\n",
    "$$P(d_1d_1|(6, 6)) \\approx 0.8526$$\n",
    "\n",
    "On peut remarquer que la séquence d'états cachés qui explique au mieux l'observation \"(6, 6)\" est la séquence \"$d_1d_1$\".\n",
    "\n",
    "### Cas général\n",
    "\n",
    "**Comment trouver la séquence d'états cachés qui explique au mieux une séquence quelconque d'observacions ?**"
   ]
  },
  {
   "cell_type": "markdown",
   "metadata": {},
   "source": [
    "## Algorithme de Viterbi\n",
    "\n",
    "On note $(x_1, x_2, ..., x_n)$ la séquence d'états cachés et $(y_1, y_2, ..., y_n)$ les observations correspondantes. On appellera $S$ l'espace des états cachés. Dans l'exemple du casino malhonnête $S=\\{0, 1\\}$, soit on a lancé le dé est pipé, soit on a lancé le dé non pipé. On appellera $A$ la matrix de transition, $B$ la matrice d'émission et $\\pi$ le vecteur de probabilité initial. La clé de l'algorithme de Viterbi consiste à définir la quantité $V_{tk}$ qui représente  \n",
    "*la probabilité du chemin **le plus probable** qui finit dans l'état caché $k$ lors du tirage numéro $t$*.\n",
    "\n",
    "$$\\begin{array}{ll}\n",
    "V_{1k} = & b_{k,y_{1}}\\pi_k \\\\\n",
    "V_{tk} = &b_{k,y_{t}} \\displaystyle \\max_{x\\in S}a_{x,k} V_{t-1,x}\n",
    "\\end{array}\n",
    "$$\n",
    "\n",
    "Cette définition permet trouver par calcul recursive le dernier élément de la séquence d'états cachés :\n",
    "\n",
    "$$x_n = \\displaystyle \\arg\\max_{x\\in S} V_{n,x}$$\n"
   ]
  },
  {
   "cell_type": "code",
   "execution_count": 1,
   "metadata": {
    "collapsed": true
   },
   "outputs": [],
   "source": [
    "from dishonest_casino import dishonest_casino_play\n",
    "import numpy as np\n",
    "import matplotlib.pyplot as plt\n",
    "\n",
    "% matplotlib inline\n",
    "\n",
    "fair_prob = [1./6, 1./6, 1./6, 1./6, 1./6, 1./6]\n",
    "unfair_prob = [1./10, 1./10, 1./10, 1./10, 1./10, 1./2]\n",
    "switch_to_loaded_dice_prob = 0.05\n",
    "switch_to_fair_dice_prob = 0.1\n",
    "n = 1000000\n",
    "h, v = dishonest_casino_play(n=n, fair_prob=fair_prob, unfair_prob=unfair_prob,\n",
    "                             prob_switch_to_unfair=switch_to_loaded_dice_prob,\n",
    "                             prob_switch_to_fair=switch_to_fair_dice_prob)"
   ]
  },
  {
   "cell_type": "code",
   "execution_count": 2,
   "metadata": {
    "collapsed": true
   },
   "outputs": [],
   "source": [
    "obs_states = [i-1 for i in v]\n",
    "hidden_states = [0, 1]\n",
    "initial_prob = [0.5, 0.5]\n",
    "trans_prob = np.matrix([[0.95, 0.05, 1], [0.1, 0.9, 1]])  \n",
    "# Note there is one artificial state added in the last column\n",
    "# of the matrix\n",
    "emis_prob = np.matrix([[1./6, 1./6, 1./6, 1./6, 1./6, 1./6],\n",
    "             [0.1, 0.1, 0.1, 0.1, 0.1, 0.5], [1, 1, 1, 1, 1, 1]])\n",
    "# Note there is one artificial state added in the last row\n",
    "# of the matrix\n",
    "S = [i for i in range(trans_prob.shape[0])] # the hidden states"
   ]
  },
  {
   "cell_type": "code",
   "execution_count": 3,
   "metadata": {
    "collapsed": true
   },
   "outputs": [],
   "source": [
    "# Recursive implementation of the Viterbi algorithm\n",
    "\n",
    "\n",
    "def recursive_viterbi(obs, pi, A, B, S, t, k, Vp):\n",
    "    \"\"\"\n",
    "    obs: observations\n",
    "    pi: initial probabilities\n",
    "    A: transition probabilities\n",
    "    B: emision probabilities\n",
    "    S: the space of hidden states\n",
    "    final_h: the final hidden state\n",
    "    Vp: viterbi path\n",
    "    \"\"\"\n",
    "    if t == 1:\n",
    "        V1k = B[k, obs[0]] * pi[k]\n",
    "        #print(\"Base case. Prob = {}\".format(V1k))\n",
    "        return V1k\n",
    "    else:\n",
    "        vector = np.array([A[i, k] * recursive_viterbi(obs, pi, A, B, S, t-1, i, Vp) for i in S])\n",
    "        #print(vector)\n",
    "        Vtk = B[k, obs[t-1]] * np.max(vector)\n",
    "        xt = np.argmax(vector)\n",
    "        #print(\"The hidden state at {} is {}\".format(t-1, xt))\n",
    "        Vp[t-2] = xt\n",
    "        return Vtk"
   ]
  },
  {
   "cell_type": "code",
   "execution_count": 4,
   "metadata": {},
   "outputs": [
    {
     "data": {
      "text/plain": [
       "1.1325838347575636e-15"
      ]
     },
     "execution_count": 4,
     "metadata": {},
     "output_type": "execute_result"
    }
   ],
   "source": [
    "n = 20\n",
    "Vp = -np.ones(n)\n",
    "recursive_viterbi(obs_states[:n], initial_prob, trans_prob, emis_prob, S, n, 2, Vp)"
   ]
  },
  {
   "cell_type": "code",
   "execution_count": 5,
   "metadata": {},
   "outputs": [
    {
     "name": "stdout",
     "output_type": "stream",
     "text": [
      "[1, 1, 1, 1, 1, 1, 1, 1, 1, 1, 1, 1, 1, 1, 1, 1, 1, 1, 0, -1]\n",
      "[0, 0, 0, 0, 0, 0, 0, 1, 1, 1, 1, 1, 0, 0, 0, 0, 0, 0, 0, 0]\n"
     ]
    }
   ],
   "source": [
    "print([int(i) for i in Vp])\n",
    "print(h[:20])"
   ]
  },
  {
   "cell_type": "markdown",
   "metadata": {},
   "source": [
    "## Idée pour la programation dynamique\n",
    "\n",
    "Lorsqu'on utilise l'algorithme recursive, on calcule beaucoup de fois la même quantité (c'est à dire, les $V_{tk}$). On peut noter cela si on imprime un message à chaque fois qu'une de ces quantitées est calculée.\n",
    "\n",
    "Afin d'améliorer l'algorithme, on peut utiliser la programation dymanique. C'est à dire, on va calculer tous les $V_{tk}$ pour tout $t$ et $k$.\n",
    "\n",
    "De plus, comme on est en train de faire beaucoup de multiplications de valeurs inférieures à $1$, les quantités devienent très petites. Une autre amélioration consiste à **utiliser plutôt \"log\" pour le calcul des quantités $V_{tk}$**"
   ]
  },
  {
   "cell_type": "code",
   "execution_count": 6,
   "metadata": {
    "collapsed": true
   },
   "outputs": [],
   "source": [
    "def viterbi(obs, pi, A, B):\n",
    "    \"\"\"\n",
    "    obs: observations\n",
    "    pi: initial probabilities\n",
    "    A: transition probabilities\n",
    "    B: emision probabilities\n",
    "    \"\"\"\n",
    "    S = [i for i in range(trans_prob.shape[0])] # the hidden states\n",
    "    Vtk_matrix = -np.ones((len(S), len(obs)))\n",
    "    for k in S:\n",
    "        Vtk_matrix[k, 0] = np.log(B[k, obs[0]]) + np.log(pi[k])\n",
    "    for t in range(1, len(obs)):\n",
    "        for k in S:\n",
    "            # Compute Vtk\n",
    "            vector = np.array([np.log(A[i, k]) + Vtk_matrix[i, t-1] for i in S])\n",
    "            Vtk_matrix[k, t] = np.log(B[k, obs[t]]) + np.max(vector)\n",
    "    # Finding the path\n",
    "    x = -np.ones(len(obs))\n",
    "    for t in range(len(obs)):\n",
    "        x[-(t+1)] = np.argmax(Vtk_matrix[:, -(t+1)])\n",
    "    return x\n"
   ]
  },
  {
   "cell_type": "code",
   "execution_count": 7,
   "metadata": {},
   "outputs": [
    {
     "data": {
      "text/plain": [
       "array([0., 1., 0., ..., 1., 1., 1.])"
      ]
     },
     "execution_count": 7,
     "metadata": {},
     "output_type": "execute_result"
    }
   ],
   "source": [
    "n = -1\n",
    "viterbi(obs_states[:n], initial_prob, trans_prob, emis_prob)"
   ]
  },
  {
   "cell_type": "code",
   "execution_count": 8,
   "metadata": {},
   "outputs": [
    {
     "data": {
      "text/plain": [
       "array([0, 0, 0, ..., 1, 1, 1])"
      ]
     },
     "execution_count": 8,
     "metadata": {},
     "output_type": "execute_result"
    }
   ],
   "source": [
    "np.array(h)"
   ]
  },
  {
   "cell_type": "code",
   "execution_count": 9,
   "metadata": {},
   "outputs": [
    {
     "data": {
      "image/png": "[encoded data removed]",
      "text/plain": [
       "<Figure size 432x288 with 1 Axes>"
      ]
     },
     "metadata": {},
     "output_type": "display_data"
    }
   ],
   "source": [
    "# Verify the algorithm accuracy\n",
    "\n",
    "n = 500\n",
    "mat = np.zeros((n, n))\n",
    "for i in range(n):\n",
    "    mat[i,] = h[:n]\n",
    "fig = plt.figure()\n",
    "ax = fig.add_subplot(111)\n",
    "ax.matshow(mat,cmap='gray')\n",
    "ax.plot([i*200 for i in h[:n]], color='r')\n",
    "ax.set_ylim(-10, 210)\n",
    "plt.show()"
   ]
  },
  {
   "cell_type": "markdown",
   "metadata": {},
   "source": [
    "Il existe une librairie python ([pomegranate](https://pomegranate.readthedocs.io/en/latest/#) ) qui permet, entre autres de travailler avec de modeles HMM. Faire une validaiton avec la méthode Viterbi implementée [dans pomegranate](https://pomegranate.readthedocs.io/en/latest/HiddenMarkovModel.html)"
   ]
  },
  {
   "cell_type": "code",
   "execution_count": null,
   "metadata": {
    "collapsed": true
   },
   "outputs": [],
   "source": []
  }
 ],
 "metadata": {
  "kernelspec": {
   "display_name": "Python 3",
   "language": "python",
   "name": "python3"
  },
  "language_info": {
   "codemirror_mode": {
    "name": "ipython",
    "version": 3
   },
   "file_extension": ".py",
   "mimetype": "text/x-python",
   "name": "python",
   "nbconvert_exporter": "python",
   "pygments_lexer": "ipython3",
   "version": "3.6.3"
  }
 },
 "nbformat": 4,
 "nbformat_minor": 2
}
