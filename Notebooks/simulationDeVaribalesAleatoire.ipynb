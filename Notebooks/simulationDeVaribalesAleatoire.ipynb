{
 "cells": [
  {
   "cell_type": "markdown",
   "metadata": {},
   "source": [
    "# Simulation de variables aléatoire\n",
    "\n",
    "L'objectif de ce projet est de simuler pour comprendre ce qu'est une variable aléatoire. \n",
    "\n",
    "Nous simulerons d'abord le jeu de *pile ou face* puis le *lancé de dé*. \n",
    "À partir des *histogrammes* issus des tirages aléatoires de ces deux expériences nous allons aborder la notion de *fonction de répartition* dans le cadre des variables aléatoires discrètes. \n",
    "\n",
    "Votre mission va être ensuite d'explorer ces caractéristique pour d'autres variables aléatoires.\n"
   ]
  },
  {
   "cell_type": "code",
   "execution_count": 1,
   "metadata": {
    "collapsed": true
   },
   "outputs": [],
   "source": [
    "import random, bisect\n",
    "import matplotlib.pyplot as plt\n",
    "\n",
    "% matplotlib inline"
   ]
  },
  {
   "cell_type": "code",
   "execution_count": 2,
   "metadata": {
    "collapsed": true
   },
   "outputs": [],
   "source": [
    "# Some useful functions\n",
    "\n",
    "def flipCoin(n):\n",
    "    # On simule n lancés d'une pièce équilibrée\n",
    "    values = []\n",
    "    for i in range(n):\n",
    "        s = random.random()\n",
    "        if s < 0.5:\n",
    "            values.append(0)\n",
    "        else:\n",
    "            values.append(1)\n",
    "    return(values)\n",
    "\n",
    "\n",
    "def rollDie(n):\n",
    "    # On simule n lancés d'un dé non truqué\n",
    "    values = []\n",
    "    for i in range(n):\n",
    "        s = random.random()\n",
    "        if s < 1./6:\n",
    "            values.append(1)\n",
    "        elif s < 2./6:\n",
    "            values.append(2)\n",
    "        elif s < 3./6:\n",
    "            values.append(3)\n",
    "        elif s < 4./6:\n",
    "            values.append(4)\n",
    "        elif s < 5./6:\n",
    "            values.append(5)\n",
    "        else:\n",
    "            values.append(6)\n",
    "    return(values)\n",
    "\n",
    "def simulateRV(probVect, n):\n",
    "    # Simule une variable aleatoire à partir d'un vecteur de proba\n",
    "    values = []\n",
    "    if (min(probVect) < 0) or (sum(probVect) != 1):\n",
    "        print(\"No valid probability vector\")\n",
    "        return([])\n",
    "    p = [probVect[0]]\n",
    "    for i in range(1, len(probVect)):\n",
    "        p.append(p[-1] + probVect[i])\n",
    "    for i in range(n):\n",
    "        s = random.random()\n",
    "        values.append(bisect.bisect(p, s))\n",
    "    return(values)\n",
    "    "
   ]
  },
  {
   "cell_type": "markdown",
   "metadata": {},
   "source": [
    "# Pile ou Face ?"
   ]
  },
  {
   "cell_type": "code",
   "execution_count": 3,
   "metadata": {
    "collapsed": true
   },
   "outputs": [],
   "source": [
    "n = 10000\n",
    "values = flipCoin(n)"
   ]
  },
  {
   "cell_type": "code",
   "execution_count": 4,
   "metadata": {},
   "outputs": [
    {
     "ename": "UnicodeDecodeError",
     "evalue": "'ascii' codec can't decode byte 0xc3 in position 12: ordinal not in range(128)",
     "output_type": "error",
     "traceback": [
      "\u001b[0;31m---------------------------------------------------------------------------\u001b[0m",
      "\u001b[0;31mUnicodeDecodeError\u001b[0m                        Traceback (most recent call last)",
      "\u001b[0;32m<ipython-input-4-56c081745144>\u001b[0m in \u001b[0;36m<module>\u001b[0;34m()\u001b[0m\n\u001b[1;32m     10\u001b[0m     \u001b[0max\u001b[0m \u001b[0;34m=\u001b[0m \u001b[0mplt\u001b[0m\u001b[0;34m.\u001b[0m\u001b[0msubplot\u001b[0m\u001b[0;34m(\u001b[0m\u001b[0mi\u001b[0m\u001b[0;34m)\u001b[0m\u001b[0;34m\u001b[0m\u001b[0m\n\u001b[1;32m     11\u001b[0m     \u001b[0mplt\u001b[0m\u001b[0;34m.\u001b[0m\u001b[0mpie\u001b[0m\u001b[0;34m(\u001b[0m\u001b[0mfracs\u001b[0m\u001b[0;34m,\u001b[0m\u001b[0mlabels\u001b[0m\u001b[0;34m=\u001b[0m\u001b[0mlabels\u001b[0m\u001b[0;34m)\u001b[0m\u001b[0;34m\u001b[0m\u001b[0m\n\u001b[0;32m---> 12\u001b[0;31m     \u001b[0max\u001b[0m\u001b[0;34m.\u001b[0m\u001b[0mset_title\u001b[0m\u001b[0;34m(\u001b[0m\u001b[0;34m\"pour \"\u001b[0m\u001b[0;34m+\u001b[0m\u001b[0mstr\u001b[0m\u001b[0;34m(\u001b[0m\u001b[0mn\u001b[0m\u001b[0;34m)\u001b[0m\u001b[0;34m+\u001b[0m\u001b[0;34m\" lancés %pile = \"\u001b[0m\u001b[0;34m+\u001b[0m\u001b[0mstr\u001b[0m\u001b[0;34m(\u001b[0m\u001b[0mnPile\u001b[0m\u001b[0;34m/\u001b[0m\u001b[0mn\u001b[0m\u001b[0;34m*\u001b[0m\u001b[0;36m100\u001b[0m\u001b[0;34m)\u001b[0m\u001b[0;34m)\u001b[0m\u001b[0;34m\u001b[0m\u001b[0m\n\u001b[0m\u001b[1;32m     13\u001b[0m     \u001b[0mplt\u001b[0m\u001b[0;34m.\u001b[0m\u001b[0maxis\u001b[0m\u001b[0;34m(\u001b[0m\u001b[0;34m'equal'\u001b[0m\u001b[0;34m)\u001b[0m\u001b[0;34m\u001b[0m\u001b[0m\n\u001b[1;32m     14\u001b[0m     \u001b[0mi\u001b[0m \u001b[0;34m+=\u001b[0m\u001b[0;36m1\u001b[0m\u001b[0;34m\u001b[0m\u001b[0m\n",
      "\u001b[0;32m/home/lebrat/anaconda2/lib/python2.7/site-packages/matplotlib/axes/_axes.pyc\u001b[0m in \u001b[0;36mset_title\u001b[0;34m(self, label, fontdict, loc, **kwargs)\u001b[0m\n\u001b[1;32m    183\u001b[0m             \u001b[0;34m'verticalalignment'\u001b[0m\u001b[0;34m:\u001b[0m \u001b[0;34m'baseline'\u001b[0m\u001b[0;34m,\u001b[0m\u001b[0;34m\u001b[0m\u001b[0m\n\u001b[1;32m    184\u001b[0m             'horizontalalignment': loc.lower()}\n\u001b[0;32m--> 185\u001b[0;31m         \u001b[0mtitle\u001b[0m\u001b[0;34m.\u001b[0m\u001b[0mset_text\u001b[0m\u001b[0;34m(\u001b[0m\u001b[0mlabel\u001b[0m\u001b[0;34m)\u001b[0m\u001b[0;34m\u001b[0m\u001b[0m\n\u001b[0m\u001b[1;32m    186\u001b[0m         \u001b[0mtitle\u001b[0m\u001b[0;34m.\u001b[0m\u001b[0mupdate\u001b[0m\u001b[0;34m(\u001b[0m\u001b[0mdefault\u001b[0m\u001b[0;34m)\u001b[0m\u001b[0;34m\u001b[0m\u001b[0m\n\u001b[1;32m    187\u001b[0m         \u001b[0;32mif\u001b[0m \u001b[0mfontdict\u001b[0m \u001b[0;32mis\u001b[0m \u001b[0;32mnot\u001b[0m \u001b[0mNone\u001b[0m\u001b[0;34m:\u001b[0m\u001b[0;34m\u001b[0m\u001b[0m\n",
      "\u001b[0;32m/home/lebrat/anaconda2/lib/python2.7/site-packages/matplotlib/text.pyc\u001b[0m in \u001b[0;36mset_text\u001b[0;34m(self, s)\u001b[0m\n\u001b[1;32m   1176\u001b[0m         \u001b[0mACCEPTS\u001b[0m\u001b[0;34m:\u001b[0m \u001b[0mstring\u001b[0m \u001b[0;32mor\u001b[0m \u001b[0manything\u001b[0m \u001b[0mprintable\u001b[0m \u001b[0;32mwith\u001b[0m \u001b[0;34m'%s'\u001b[0m \u001b[0mconversion\u001b[0m\u001b[0;34m.\u001b[0m\u001b[0;34m\u001b[0m\u001b[0m\n\u001b[1;32m   1177\u001b[0m         \"\"\"\n\u001b[0;32m-> 1178\u001b[0;31m         \u001b[0mself\u001b[0m\u001b[0;34m.\u001b[0m\u001b[0m_text\u001b[0m \u001b[0;34m=\u001b[0m \u001b[0;34m'%s'\u001b[0m \u001b[0;34m%\u001b[0m \u001b[0;34m(\u001b[0m\u001b[0ms\u001b[0m\u001b[0;34m,\u001b[0m\u001b[0;34m)\u001b[0m\u001b[0;34m\u001b[0m\u001b[0m\n\u001b[0m\u001b[1;32m   1179\u001b[0m         \u001b[0mself\u001b[0m\u001b[0;34m.\u001b[0m\u001b[0mstale\u001b[0m \u001b[0;34m=\u001b[0m \u001b[0mTrue\u001b[0m\u001b[0;34m\u001b[0m\u001b[0m\n\u001b[1;32m   1180\u001b[0m \u001b[0;34m\u001b[0m\u001b[0m\n",
      "\u001b[0;31mUnicodeDecodeError\u001b[0m: 'ascii' codec can't decode byte 0xc3 in position 12: ordinal not in range(128)"
     ]
    },
    {
     "data": {
      "image/png": "[encoded data removed]",
      "text/plain": [
       "<matplotlib.figure.Figure at 0x7f80f727d050>"
      ]
     },
     "metadata": {},
     "output_type": "display_data"
    }
   ],
   "source": [
    "random.seed(51)\n",
    "nValues = [2**i for i in range(4,16,2)]\n",
    "labels = 'P','F'\n",
    "i = 321\n",
    "fig=plt.figure(figsize=(18, 16), dpi= 80, facecolor='w', edgecolor='k')\n",
    "for n in nValues :\n",
    "    values = flipCoin(n)\n",
    "    nPile = values.count(0)\n",
    "    fracs = [nPile,n-nPile]\n",
    "    ax = plt.subplot(i)\n",
    "    plt.pie(fracs,labels=labels)\n",
    "    ax.set_title(\"pour \"+str(n)+\" lancés %pile = \"+str(nPile/n*100))\n",
    "    plt.axis('equal')\n",
    "    i +=1\n",
    "    "
   ]
  },
  {
   "cell_type": "markdown",
   "metadata": {},
   "source": [
    "Que peut-on observer sur le nombre de piles et de faces ?"
   ]
  },
  {
   "cell_type": "code",
   "execution_count": 5,
   "metadata": {
    "collapsed": true
   },
   "outputs": [],
   "source": [
    "nb0 = values.count(0)\n",
    "nb1 = values.count(1)"
   ]
  },
  {
   "cell_type": "code",
   "execution_count": 6,
   "metadata": {},
   "outputs": [
    {
     "name": "stdout",
     "output_type": "stream",
     "text": [
      "8150 8234\n"
     ]
    }
   ],
   "source": [
    "print(nb0, nb1)"
   ]
  },
  {
   "cell_type": "code",
   "execution_count": 7,
   "metadata": {},
   "outputs": [
    {
     "data": {
      "image/png": "[encoded data removed]",
      "text/plain": [
       "<matplotlib.figure.Figure at 0x7effdc33fac8>"
      ]
     },
     "metadata": {},
     "output_type": "display_data"
    }
   ],
   "source": [
    "fig = plt.figure()\n",
    "ax = fig.add_subplot(111)\n",
    "ax.hist(values, bins=[-0.5, 0.5, 1.5], histtype='bar', ec='black')\n",
    "ax.set_xticks([0, 1])\n",
    "ax.tick_params(labelsize=15)\n",
    "plt.show()"
   ]
  },
  {
   "cell_type": "markdown",
   "metadata": {},
   "source": [
    "# Lancé du dé"
   ]
  },
  {
   "cell_type": "code",
   "execution_count": 8,
   "metadata": {
    "collapsed": true
   },
   "outputs": [],
   "source": [
    "dValues = rollDie(n)"
   ]
  },
  {
   "cell_type": "code",
   "execution_count": 9,
   "metadata": {},
   "outputs": [
    {
     "data": {
      "image/png": "[encoded data removed]",
      "text/plain": [
       "<matplotlib.figure.Figure at 0x7effdbb997b8>"
      ]
     },
     "metadata": {},
     "output_type": "display_data"
    }
   ],
   "source": [
    "fig = plt.figure()\n",
    "ax = fig.add_subplot(111)\n",
    "ax.hist(dValues, bins=[0.5, 1.5, 2.5, 3.5, 4.5, 5.5, 6.5], histtype='bar', ec='black')\n",
    "ax.set_xticks([1, 2, 3, 4, 5, 6])\n",
    "ax.tick_params(labelsize=15)\n",
    "plt.show()"
   ]
  },
  {
   "cell_type": "code",
   "execution_count": 5,
   "metadata": {},
   "outputs": [
    {
     "ename": "UnicodeDecodeError",
     "evalue": "'ascii' codec can't decode byte 0xc3 in position 12: ordinal not in range(128)",
     "output_type": "error",
     "traceback": [
      "\u001b[0;31m---------------------------------------------------------------------------\u001b[0m",
      "\u001b[0;31mUnicodeDecodeError\u001b[0m                        Traceback (most recent call last)",
      "\u001b[0;32m<ipython-input-5-e27b4d53f777>\u001b[0m in \u001b[0;36m<module>\u001b[0;34m()\u001b[0m\n\u001b[1;32m      9\u001b[0m     \u001b[0max\u001b[0m \u001b[0;34m=\u001b[0m \u001b[0mplt\u001b[0m\u001b[0;34m.\u001b[0m\u001b[0msubplot\u001b[0m\u001b[0;34m(\u001b[0m\u001b[0mi\u001b[0m\u001b[0;34m)\u001b[0m\u001b[0;34m\u001b[0m\u001b[0m\n\u001b[1;32m     10\u001b[0m     \u001b[0mplt\u001b[0m\u001b[0;34m.\u001b[0m\u001b[0mpie\u001b[0m\u001b[0;34m(\u001b[0m\u001b[0mfracs\u001b[0m\u001b[0;34m,\u001b[0m\u001b[0mlabels\u001b[0m\u001b[0;34m=\u001b[0m\u001b[0mlabels\u001b[0m\u001b[0;34m)\u001b[0m\u001b[0;34m\u001b[0m\u001b[0m\n\u001b[0;32m---> 11\u001b[0;31m     \u001b[0max\u001b[0m\u001b[0;34m.\u001b[0m\u001b[0mset_title\u001b[0m\u001b[0;34m(\u001b[0m\u001b[0;34m\"pour \"\u001b[0m\u001b[0;34m+\u001b[0m\u001b[0mstr\u001b[0m\u001b[0;34m(\u001b[0m\u001b[0mn\u001b[0m\u001b[0;34m)\u001b[0m\u001b[0;34m+\u001b[0m\u001b[0;34m\" lancés % 1 = \"\u001b[0m\u001b[0;34m+\u001b[0m\u001b[0mstr\u001b[0m\u001b[0;34m(\u001b[0m\u001b[0mfracs\u001b[0m\u001b[0;34m[\u001b[0m\u001b[0;36m0\u001b[0m\u001b[0;34m]\u001b[0m\u001b[0;34m/\u001b[0m\u001b[0mn\u001b[0m\u001b[0;34m*\u001b[0m\u001b[0;36m100\u001b[0m\u001b[0;34m)\u001b[0m\u001b[0;34m)\u001b[0m\u001b[0;34m\u001b[0m\u001b[0m\n\u001b[0m\u001b[1;32m     12\u001b[0m     \u001b[0mplt\u001b[0m\u001b[0;34m.\u001b[0m\u001b[0maxis\u001b[0m\u001b[0;34m(\u001b[0m\u001b[0;34m'equal'\u001b[0m\u001b[0;34m)\u001b[0m\u001b[0;34m\u001b[0m\u001b[0m\n\u001b[1;32m     13\u001b[0m     \u001b[0mi\u001b[0m \u001b[0;34m+=\u001b[0m\u001b[0;36m1\u001b[0m\u001b[0;34m\u001b[0m\u001b[0m\n",
      "\u001b[0;32m/home/lebrat/anaconda2/lib/python2.7/site-packages/matplotlib/axes/_axes.pyc\u001b[0m in \u001b[0;36mset_title\u001b[0;34m(self, label, fontdict, loc, **kwargs)\u001b[0m\n\u001b[1;32m    183\u001b[0m             \u001b[0;34m'verticalalignment'\u001b[0m\u001b[0;34m:\u001b[0m \u001b[0;34m'baseline'\u001b[0m\u001b[0;34m,\u001b[0m\u001b[0;34m\u001b[0m\u001b[0m\n\u001b[1;32m    184\u001b[0m             'horizontalalignment': loc.lower()}\n\u001b[0;32m--> 185\u001b[0;31m         \u001b[0mtitle\u001b[0m\u001b[0;34m.\u001b[0m\u001b[0mset_text\u001b[0m\u001b[0;34m(\u001b[0m\u001b[0mlabel\u001b[0m\u001b[0;34m)\u001b[0m\u001b[0;34m\u001b[0m\u001b[0m\n\u001b[0m\u001b[1;32m    186\u001b[0m         \u001b[0mtitle\u001b[0m\u001b[0;34m.\u001b[0m\u001b[0mupdate\u001b[0m\u001b[0;34m(\u001b[0m\u001b[0mdefault\u001b[0m\u001b[0;34m)\u001b[0m\u001b[0;34m\u001b[0m\u001b[0m\n\u001b[1;32m    187\u001b[0m         \u001b[0;32mif\u001b[0m \u001b[0mfontdict\u001b[0m \u001b[0;32mis\u001b[0m \u001b[0;32mnot\u001b[0m \u001b[0mNone\u001b[0m\u001b[0;34m:\u001b[0m\u001b[0;34m\u001b[0m\u001b[0m\n",
      "\u001b[0;32m/home/lebrat/anaconda2/lib/python2.7/site-packages/matplotlib/text.pyc\u001b[0m in \u001b[0;36mset_text\u001b[0;34m(self, s)\u001b[0m\n\u001b[1;32m   1176\u001b[0m         \u001b[0mACCEPTS\u001b[0m\u001b[0;34m:\u001b[0m \u001b[0mstring\u001b[0m \u001b[0;32mor\u001b[0m \u001b[0manything\u001b[0m \u001b[0mprintable\u001b[0m \u001b[0;32mwith\u001b[0m \u001b[0;34m'%s'\u001b[0m \u001b[0mconversion\u001b[0m\u001b[0;34m.\u001b[0m\u001b[0;34m\u001b[0m\u001b[0m\n\u001b[1;32m   1177\u001b[0m         \"\"\"\n\u001b[0;32m-> 1178\u001b[0;31m         \u001b[0mself\u001b[0m\u001b[0;34m.\u001b[0m\u001b[0m_text\u001b[0m \u001b[0;34m=\u001b[0m \u001b[0;34m'%s'\u001b[0m \u001b[0;34m%\u001b[0m \u001b[0;34m(\u001b[0m\u001b[0ms\u001b[0m\u001b[0;34m,\u001b[0m\u001b[0;34m)\u001b[0m\u001b[0;34m\u001b[0m\u001b[0m\n\u001b[0m\u001b[1;32m   1179\u001b[0m         \u001b[0mself\u001b[0m\u001b[0;34m.\u001b[0m\u001b[0mstale\u001b[0m \u001b[0;34m=\u001b[0m \u001b[0mTrue\u001b[0m\u001b[0;34m\u001b[0m\u001b[0m\n\u001b[1;32m   1180\u001b[0m \u001b[0;34m\u001b[0m\u001b[0m\n",
      "\u001b[0;31mUnicodeDecodeError\u001b[0m: 'ascii' codec can't decode byte 0xc3 in position 12: ordinal not in range(128)"
     ]
    },
    {
     "data": {
      "image/png": "[encoded data removed]",
      "text/plain": [
       "<matplotlib.figure.Figure at 0x7f80eead2150>"
      ]
     },
     "metadata": {},
     "output_type": "display_data"
    }
   ],
   "source": [
    "random.seed(133)\n",
    "nValues = [2**i for i in range(4,16,2)]\n",
    "labels = '1','2','3','4','5','6'\n",
    "i = 321\n",
    "fig=plt.figure(figsize=(18, 16), dpi= 80, facecolor='w', edgecolor='k')\n",
    "for n in nValues :\n",
    "    values = rollDie(n)\n",
    "    fracs = [values.count(nombre) for nombre in range(1,7)]\n",
    "    ax = plt.subplot(i)\n",
    "    plt.pie(fracs,labels=labels)\n",
    "    ax.set_title(\"pour \"+str(n)+\" lancés % 1 = \"+str(fracs[0]/n*100))\n",
    "    plt.axis('equal')\n",
    "    i +=1\n",
    "    "
   ]
  },
  {
   "cell_type": "markdown",
   "metadata": {},
   "source": [
    "À vous de jouer !\n",
    "------\n",
    "* À partir des codes précédents simuler le lancé d'une piece chargée (biasée) suivant une loi de Bernouilli (https://fr.wikipedia.org/wiki/Loi_de_Bernoulli) avec $$p \\neq \\frac{1}{2}$$\n",
    "* À partir de votre implémentation de la loi de Bernouilli simuler une loi Binomiale (https://fr.wikipedia.org/wiki/Loi_binomiale)\n"
   ]
  },
  {
   "cell_type": "code",
   "execution_count": 6,
   "metadata": {},
   "outputs": [
    {
     "name": "stdout",
     "output_type": "stream",
     "text": [
      "(' on espere que : ', 0.7495, ' soit proche de 0.75')\n"
     ]
    }
   ],
   "source": [
    "import numpy as np\n",
    "\n",
    "def Bern(p):\n",
    "    # on tire une variable aléatoire uniforme sur [0,1]\n",
    "    # si la variable est inférieure à p on renvoie 1 \n",
    "    # sinon on revoie 0\n",
    "    unif = np.random.rand() \n",
    "    if unif < p :\n",
    "        return 1\n",
    "    else:\n",
    "        return 0\n",
    "  \n",
    "l = []\n",
    "nbVariable = 10000\n",
    "for i in range(nbVariable):\n",
    "    a = Bern(0.75)\n",
    "    l += [a]\n",
    "    \n",
    "sommeTotale = 0.\n",
    "for el in l:\n",
    "    sommeTotale += el\n",
    "\n",
    "sommeTotale /= float(len(l))\n",
    "print(\" on espere que : \",sommeTotale,\" soit proche de 0.75\")\n",
    "\n"
   ]
  },
  {
   "cell_type": "code",
   "execution_count": 7,
   "metadata": {},
   "outputs": [
    {
     "name": "stdout",
     "output_type": "stream",
     "text": [
      "[95, 109, 102, 92, 90, 96, 104, 91, 93, 84, 104, 96, 108, 103, 119, 92, 95, 94, 92, 95, 94, 85, 101, 91, 92, 100, 110, 93, 109, 103, 109, 107, 96, 101, 89, 91, 92, 105, 81, 94, 99, 93, 102, 118, 110, 109, 86, 109, 102, 97]\n",
      "Espérance : 100\n",
      "('Esp\\xc3\\xa9rance obtenue', 98.44)\n"
     ]
    }
   ],
   "source": [
    "def Bin(n,p):\n",
    "    somme = 0\n",
    "    for k in range(n):\n",
    "        somme += Bern(p)\n",
    "    return somme\n",
    "\n",
    "s = []\n",
    "Total = 0.\n",
    "NbIterations = 50\n",
    "for i in range(NbIterations):\n",
    "    S = Bin(400,0.25)\n",
    "    s += [S]\n",
    "    Total += S\n",
    "print(s)\n",
    "print(\"Espérance : 100\")\n",
    "Total /= float(NbIterations)\n",
    "print(\"Espérance obtenue\",Total)\n",
    "\n"
   ]
  },
  {
   "cell_type": "markdown",
   "metadata": {
    "scrolled": true
   },
   "source": [
    "*Jeu du Loto*\n",
    "=====\n",
    "> Dans cette partie nous allons simuler le jeu du loto de campagne $\\neq$ **l'euro-million** :\n",
    "[![Alt text](https://img.youtube.com/vi/CReE48ulVd8/0.jpg)](https://www.youtube.com/watch?v=CReE48ulVd8)\n",
    "\n",
    "\n",
    "objectifs :\n",
    "-----\n",
    "* L'objectif du loto est de remplir le plus rapidement possible une ligne **#quine** ou un carton **#carton plein** le carton est composé de 3 lignes de 5 nombres allant de 1 à 99 comme vous pouvez le constater sur l'image ci dessous.\n",
    "![](images/cartons.jpeg)\n",
    "* Pour simplifier les choses nous nous concentrerons seulement sur la **#quine**\n",
    "* La fonction `boulier(nbBoules)` pend en argument le nombre de boule et vous renvoie un tirage aléatoire de ces boules. C'est exactement l'implementation python de cet objet :\n",
    "![](images/boulier.png)"
   ]
  },
  {
   "cell_type": "code",
   "execution_count": 8,
   "metadata": {},
   "outputs": [
    {
     "name": "stdout",
     "output_type": "stream",
     "text": [
      "[42, 30, 34, 97, 87, 44, 78, 47, 38, 88, 33, 13, 39, 43, 35, 3, 26, 59, 22, 28, 67, 27, 93, 19, 48, 71, 89, 68, 23, 45, 63, 84, 51, 17, 52, 4, 37, 77, 53, 60, 90, 20, 70, 96, 15, 46, 2, 85, 36, 58, 7, 8, 21, 61, 14, 76, 94, 92, 12, 56, 82, 16, 81, 73, 18, 41, 25, 10, 99, 11, 80, 95, 9, 32, 49, 75, 57, 50, 66, 40, 6, 65, 31, 55, 54, 29, 5, 24, 1, 69, 72, 62, 74, 86, 98, 91, 83, 79, 64]\n",
      "On lance une fonction qui mélange la liste de façon aléatoire\n",
      "[70, 39, 46, 38, 82, 5, 45, 65, 60, 63, 55, 33, 34, 44, 69, 51, 27, 78, 28, 1, 83, 77, 24, 72, 53, 29, 67, 19, 87, 30, 49, 99, 15, 17, 86, 43, 56, 22, 6, 57, 20, 98, 2, 12, 90, 36, 61, 89, 9, 50, 64, 32, 58, 74, 85, 75, 37, 80, 95, 42, 54, 68, 76, 31, 35, 52, 48, 26, 92, 79, 23, 4, 93, 84, 47, 3, 18, 21, 8, 91, 88, 25, 94, 96, 59, 11, 16, 41, 97, 73, 10, 40, 7, 66, 71, 62, 81, 14, 13]\n"
     ]
    }
   ],
   "source": [
    "#Implementons le jeu du du loto\n",
    "nbBoulesVraiLoto = 99\n",
    "\n",
    "def boulier(nbBoules):\n",
    "    tirage = []\n",
    "    numeroDispo = [i for i in range(1,nbBoules+1)]\n",
    "    while len(numeroDispo) > 0 :\n",
    "        #tire une boule de façon aléatoire dans la liste\n",
    "        mabouleest = np.random.randint(len(numeroDispo))\n",
    "        numeroBoule = numeroDispo[mabouleest]\n",
    "        #print(\"Le numero : \",numeroBoule)\n",
    "        numeroDispo.pop(mabouleest)\n",
    "        tirage += [numeroBoule]\n",
    "    return tirage\n",
    "    \n",
    "\n",
    "unTirage = boulier(nbBoulesVraiLoto)\n",
    "print(unTirage)\n",
    "print(\"On lance une fonction qui mélange la liste de façon aléatoire\")\n",
    "np.random.shuffle(unTirage)\n",
    "print(unTirage)\n"
   ]
  },
  {
   "cell_type": "markdown",
   "metadata": {},
   "source": [
    "**Remarque** : la fonction que nous avons implémenté existe déjà il s'agit de `np.random.shuffle`\n",
    "\n",
    "Nous pouvons commencer à jouer !\n",
    "-----------------\n",
    " 1. Écrivez votre liste de cartons : `cartonListe` ( = liste de 5 nombres compris entre 1 et 99) avec le nombre de cartons que vous souhaitez.\n",
    " 2. Simuler `nbTirage = 10000` tirage de boules :\n",
    "    * arrêtez le dépouillement à chaque fois que vous avez un gagnant.\n",
    "    * Il peut y avoir plusieurs gagnants sur le même \"**round**\" du dépouillement.\n",
    "    * Gardez en mémoire quel(s) carton(s) a/ont gagné.\n",
    "    * À la fin comptez le nombre de victoire pour chaque carton.\n"
   ]
  },
  {
   "cell_type": "code",
   "execution_count": 14,
   "metadata": {
    "collapsed": true
   },
   "outputs": [],
   "source": [
    "cartonListe = [[1,9,2,3,5],[4,55,66,77,88],[42,43,86,21,31],[42,43,48,50,52]]"
   ]
  },
  {
   "cell_type": "code",
   "execution_count": 15,
   "metadata": {
    "collapsed": true
   },
   "outputs": [],
   "source": [
    "nbTest = 1000\n",
    "numTrouve = [np.zeros(len(l),dtype=bool) for l in cartonListe]\n",
    "winnerCount = np.zeros(len(cartonListe))\n",
    "for testNo in range(nbTest):\n",
    "    numTrouve = [np.zeros(len(l),dtype=bool) for l in cartonListe]    \n",
    "    unTirage = boulier(nbBoulesVraiLoto)\n",
    "    winner = [ np.alltrue(nT) for nT in numTrouve]\n",
    "    while not(np.any(winner)):        \n",
    "        # on va tirer une boule\n",
    "        numero = unTirage.pop(0)\n",
    "        # on va marquer tous les cartons contenant ce numero\n",
    "        for i,c in enumerate(cartonListe):\n",
    "            for j,numCart in enumerate(c):\n",
    "                if numCart == numero :\n",
    "                    numTrouve[i][j] = True\n",
    "        #on verifie si tous les numéros d'un carton n'ont pas été trouvés\n",
    "        winner = [ np.alltrue(nT) for nT in numTrouve]\n",
    "    # on ajoute une victoire à tous les cartons victorieux\n",
    "    for k in range(len(winner)):\n",
    "        if winner[k] :\n",
    "            winnerCount[k] += 1\n",
    "        \n",
    "    \n",
    "    "
   ]
  },
  {
   "cell_type": "code",
   "execution_count": 16,
   "metadata": {},
   "outputs": [
    {
     "data": {
      "text/plain": [
       "array([ 271.,  260.,  253.,  261.])"
      ]
     },
     "execution_count": 16,
     "metadata": {},
     "output_type": "execute_result"
    }
   ],
   "source": [
    "winnerCount"
   ]
  },
  {
   "cell_type": "code",
   "execution_count": null,
   "metadata": {
    "collapsed": true
   },
   "outputs": [],
   "source": []
  },
  {
   "cell_type": "code",
   "execution_count": null,
   "metadata": {
    "collapsed": true
   },
   "outputs": [],
   "source": []
  }
 ],
 "metadata": {
  "anaconda-cloud": {},
  "kernelspec": {
   "display_name": "Python 2",
   "language": "python",
   "name": "python2"
  },
  "language_info": {
   "codemirror_mode": {
    "name": "ipython",
    "version": 2
   },
   "file_extension": ".py",
   "mimetype": "text/x-python",
   "name": "python",
   "nbconvert_exporter": "python",
   "pygments_lexer": "ipython2",
   "version": "2.7.14"
  }
 },
 "nbformat": 4,
 "nbformat_minor": 2
}
