{
 "cells": [
  {
   "cell_type": "markdown",
   "metadata": {},
   "source": [
    "# Simulation de variables aléatoire\n",
    "\n",
    "L'objectif de ce notebook est de simuler pour comprendre ce qu'est une variable aléatoire. \n",
    "\n",
    "Nous simulerons d'abord le jeu de *pile ou face* puis le *lancé de dé*. \n",
    "À partir des *histogrammes* issus des tirages aléatoires de ces deux expériences nous allons aborder la notion de *fonction de répartition* dans le cadre des variables aléatoires discrètes. \n",
    "\n",
    "Votre mission va être ensuite d'explorer ces caractéristique pour d'autres variables aléatoires.\n"
   ]
  },
  {
   "cell_type": "code",
   "execution_count": null,
   "metadata": {},
   "outputs": [],
   "source": [
    "import random, bisect\n",
    "import matplotlib.pyplot as plt\n",
    "\n",
    "% matplotlib inline"
   ]
  },
  {
   "cell_type": "code",
   "execution_count": null,
   "metadata": {},
   "outputs": [],
   "source": [
    "# Some useful functions\n",
    "\n",
    "def flipCoin(n):\n",
    "    # On simule n lancés d'une pièce équilibrée\n",
    "    values = []\n",
    "    for i in range(n):\n",
    "        s = random.random()\n",
    "        if s < 0.5:\n",
    "            values.append(0)\n",
    "        else:\n",
    "            values.append(1)\n",
    "    return(values)\n",
    "\n",
    "\n",
    "def rollDie(n):\n",
    "    # On simule n lancés d'un dé non truqué\n",
    "    values = []\n",
    "    for i in range(n):\n",
    "        s = random.random()\n",
    "        if s < 1./6:\n",
    "            values.append(1)\n",
    "        elif s < 2./6:\n",
    "            values.append(2)\n",
    "        elif s < 3./6:\n",
    "            values.append(3)\n",
    "        elif s < 4./6:\n",
    "            values.append(4)\n",
    "        elif s < 5./6:\n",
    "            values.append(5)\n",
    "        else:\n",
    "            values.append(6)\n",
    "    return(values)\n",
    "\n",
    "def simulateRV(probVect, n):\n",
    "    # Simule une variable aleatoire à partir d'un vecteur de proba\n",
    "    values = []\n",
    "    if (min(probVect) < 0) or (sum(probVect) != 1):\n",
    "        print(\"No valid probability vector\")\n",
    "        return([])\n",
    "    p = [probVect[0]]\n",
    "    for i in range(1, len(probVect)):\n",
    "        p.append(p[-1] + probVect[i])\n",
    "    for i in range(n):\n",
    "        s = random.random()\n",
    "        values.append(bisect.bisect(p, s))\n",
    "    return(values)\n",
    "    "
   ]
  },
  {
   "cell_type": "markdown",
   "metadata": {},
   "source": [
    "# Pile ou Face ?"
   ]
  },
  {
   "cell_type": "code",
   "execution_count": null,
   "metadata": {},
   "outputs": [],
   "source": [
    "n = 10000\n",
    "values = flipCoin(n)"
   ]
  },
  {
   "cell_type": "code",
   "execution_count": null,
   "metadata": {},
   "outputs": [],
   "source": [
    "random.seed(51)\n",
    "nValues = [2**i for i in range(4,16,2)]\n",
    "labels = 'P','F'\n",
    "i = 321\n",
    "fig=plt.figure(figsize=(18, 16), dpi= 80, facecolor='w', edgecolor='k')\n",
    "for n in nValues :\n",
    "    values = flipCoin(n)\n",
    "    nPile = values.count(0)\n",
    "    fracs = [nPile,n-nPile]\n",
    "    ax = plt.subplot(i)\n",
    "    plt.pie(fracs,labels=labels)\n",
    "    ax.set_title(\"pour \"+str(n)+\" lancés %pile = \"+str(nPile/n*100))\n",
    "    plt.axis('equal')\n",
    "    i +=1\n",
    "    "
   ]
  },
  {
   "cell_type": "markdown",
   "metadata": {},
   "source": [
    "Que peut-on observer sur le nombre de piles et de faces ?"
   ]
  },
  {
   "cell_type": "code",
   "execution_count": null,
   "metadata": {},
   "outputs": [],
   "source": [
    "nb0 = values.count(0)\n",
    "nb1 = values.count(1)"
   ]
  },
  {
   "cell_type": "code",
   "execution_count": null,
   "metadata": {},
   "outputs": [],
   "source": [
    "print(nb0, nb1)"
   ]
  },
  {
   "cell_type": "code",
   "execution_count": null,
   "metadata": {},
   "outputs": [],
   "source": [
    "fig = plt.figure()\n",
    "ax = fig.add_subplot(111)\n",
    "ax.hist(values, bins=[-0.5, 0.5, 1.5], histtype='bar', ec='black')\n",
    "ax.set_xticks([0, 1])\n",
    "ax.tick_params(labelsize=15)\n",
    "plt.show()"
   ]
  },
  {
   "cell_type": "markdown",
   "metadata": {},
   "source": [
    "# Lancé du dé"
   ]
  },
  {
   "cell_type": "code",
   "execution_count": null,
   "metadata": {},
   "outputs": [],
   "source": [
    "dValues = rollDie(n)"
   ]
  },
  {
   "cell_type": "code",
   "execution_count": null,
   "metadata": {},
   "outputs": [],
   "source": [
    "fig = plt.figure()\n",
    "ax = fig.add_subplot(111)\n",
    "ax.hist(dValues, bins=[0.5, 1.5, 2.5, 3.5, 4.5, 5.5, 6.5], histtype='bar', ec='black')\n",
    "ax.set_xticks([1, 2, 3, 4, 5, 6])\n",
    "ax.tick_params(labelsize=15)\n",
    "plt.show()"
   ]
  },
  {
   "cell_type": "code",
   "execution_count": null,
   "metadata": {},
   "outputs": [],
   "source": [
    "random.seed(133)\n",
    "nValues = [2**i for i in range(4,16,2)]\n",
    "labels = '1','2','3','4','5','6'\n",
    "i = 321\n",
    "fig=plt.figure(figsize=(18, 16), dpi= 80, facecolor='w', edgecolor='k')\n",
    "for n in nValues :\n",
    "    values = rollDie(n)\n",
    "    fracs = [values.count(nombre) for nombre in range(1,7)]\n",
    "    ax = plt.subplot(i)\n",
    "    plt.pie(fracs,labels=labels)\n",
    "    ax.set_title(\"pour \"+str(n)+\" lancés % 1 = \"+str(fracs[0]/n*100))\n",
    "    plt.axis('equal')\n",
    "    i +=1\n",
    "    "
   ]
  },
  {
   "cell_type": "markdown",
   "metadata": {},
   "source": [
    "À vous de jouer !\n",
    "------\n",
    "* À partir des codes précédents simuler le lancé d'une piece chargée (biasée) suivant une loi de Bernouilli (https://fr.wikipedia.org/wiki/Loi_de_Bernoulli) avec $$p \\neq \\frac{1}{2}$$\n",
    "* À partir de votre implémentation de la loi de Bernouilli simuler une loi Binomiale (https://fr.wikipedia.org/wiki/Loi_binomiale)\n"
   ]
  },
  {
   "cell_type": "code",
   "execution_count": null,
   "metadata": {},
   "outputs": [],
   "source": [
    "import numpy as np\n",
    "\n",
    "def Bern(p):\n",
    "    # on tire une variable aléatoire uniforme sur [0,1]\n",
    "    # si la variable est inférieure à p on renvoie 1 \n",
    "    # sinon on revoie 0\n",
    "    pass\n",
    "  \n",
    "l = []\n",
    "nbVariable = 10000\n",
    "for i in range(nbVariable):\n",
    "    a = Bern(0.75)\n",
    "    l += [a]\n",
    "    \n",
    "sommeTotale = 0.\n",
    "for el in l:\n",
    "    sommeTotale += el\n",
    "\n",
    "sommeTotale /= float(len(l))\n",
    "print(\" on espere que : \",sommeTotale,\" soit proche de 0.75\")\n",
    "\n"
   ]
  },
  {
   "cell_type": "code",
   "execution_count": null,
   "metadata": {},
   "outputs": [],
   "source": [
    "def Bin(n,p):\n",
    "    pass\n",
    "\n",
    "s = []\n",
    "Total = 0.\n",
    "NbIterations = 50\n",
    "for i in range(NbIterations):\n",
    "    S = Bin(400,0.25)\n",
    "    s += [S]\n",
    "    Total += S\n",
    "print(s)\n",
    "print(\"Espérance : 100\")\n",
    "Total /= float(NbIterations)\n",
    "print(\"Espérance obtenue\",Total)\n",
    "\n"
   ]
  },
  {
   "cell_type": "markdown",
   "metadata": {
    "scrolled": true
   },
   "source": [
    "*Jeu du Loto*\n",
    "=====\n",
    "> Dans cette partie nous allons simuler le jeu du loto de campagne $\\neq$ **l'euro-million** :\n",
    "[![Alt text](https://img.youtube.com/vi/CReE48ulVd8/0.jpg)](https://www.youtube.com/watch?v=CReE48ulVd8)\n",
    "\n",
    "\n",
    "objectifs :\n",
    "-----\n",
    "* L'objectif du loto est de remplir le plus rapidement possible une ligne **#quine** ou un carton **#carton plein** le carton est composé de 3 lignes de 5 nombres allant de 1 à 99 comme vous pouvez le constater sur l'image ci dessous.\n",
    "![](images/cartons.jpeg)\n",
    "* Pour simplifier les choses nous nous concentrerons seulement sur la **#quine**\n",
    "* La fonction `boulier(nbBoules)` pend en argument le nombre de boule et vous renvoie un tirage aléatoire de ces boules. C'est exactement l'implementation python de cet objet :\n",
    "![](images/boulier.png)"
   ]
  },
  {
   "cell_type": "code",
   "execution_count": null,
   "metadata": {},
   "outputs": [],
   "source": [
    "#Implementons le jeu du du loto\n",
    "nbBoulesVraiLoto = 99\n",
    "\n",
    "def boulier(nbBoules):\n",
    "    tirage = []\n",
    "    numeroDispo = [i for i in range(1,nbBoules+1)]\n",
    "    while len(numeroDispo) > 0 :\n",
    "        #tire une boule de façon aléatoire dans la liste\n",
    "        mabouleest = np.random.randint(len(numeroDispo))\n",
    "        numeroBoule = numeroDispo[mabouleest]\n",
    "        #print(\"Le numero : \",numeroBoule)\n",
    "        numeroDispo.pop(mabouleest)\n",
    "        tirage += [numeroBoule]\n",
    "    return tirage\n",
    "    \n",
    "\n",
    "unTirage = boulier(nbBoulesVraiLoto)\n",
    "print(unTirage)\n",
    "print(\"On lance une fonction qui mélange la liste de façon aléatoire\")\n",
    "np.random.shuffle(unTirage)\n",
    "print(unTirage)\n"
   ]
  },
  {
   "cell_type": "markdown",
   "metadata": {},
   "source": [
    "**Remarque** : la fonction que nous avons implémenté existe déjà il s'agit de `np.random.shuffle`\n",
    "\n",
    "Nous pouvons commencer à jouer !\n",
    "-----------------\n",
    " 1. Écrivez votre liste de cartons : `cartonListe` ( = liste de 5 nombres compris entre 1 et 99) avec le nombre de cartons que vous souhaitez.\n",
    " 2. Simuler `nbTirage = 10000` tirage de boules :\n",
    "    * arrêtez le dépouillement à chaque fois que vous avez un gagnant.\n",
    "    * Il peut y avoir plusieurs gagnants sur le même \"**round**\" du dépouillement.\n",
    "    * Gardez en mémoire quel(s) carton(s) a/ont gagné.\n",
    "    * À la fin comptez le nombre de victoire pour chaque carton.\n"
   ]
  },
  {
   "cell_type": "code",
   "execution_count": null,
   "metadata": {},
   "outputs": [],
   "source": [
    "cartonListe = [[1,9,2,3,5],[4,55,66,77,88],[42,43,86,21,31],[42,43,48,50,52]]"
   ]
  },
  {
   "cell_type": "code",
   "execution_count": null,
   "metadata": {},
   "outputs": [],
   "source": [
    "nbTest = 1000\n",
    "numTrouve = [np.zeros(len(l),dtype=bool) for l in cartonListe]\n",
    "winnerCount = np.zeros(len(cartonListe))\n",
    "for testNo in range(nbTest):\n",
    "    numTrouve = [np.zeros(len(l),dtype=bool) for l in cartonListe]    \n",
    "    unTirage = boulier(nbBoulesVraiLoto)\n",
    "    winner = [ np.alltrue(nT) for nT in numTrouve]\n",
    "    while not(np.any(winner)):        \n",
    "        # on va tirer une boule\n",
    "        numero = unTirage.pop(0)\n",
    "        # on va marquer tous les cartons contenant ce numero\n",
    "        for i,c in enumerate(cartonListe):\n",
    "            for j,numCart in enumerate(c):\n",
    "                if numCart == numero :\n",
    "                    numTrouve[i][j] = True\n",
    "        #on verifie si tous les numéros d'un carton n'ont pas été trouvés\n",
    "        winner = [ np.alltrue(nT) for nT in numTrouve]\n",
    "    # on ajoute une victoire à tous les cartons victorieux\n",
    "    for k in range(len(winner)):\n",
    "        if winner[k] :\n",
    "            winnerCount[k] += 1\n",
    "        \n",
    "    \n",
    "    "
   ]
  },
  {
   "cell_type": "code",
   "execution_count": null,
   "metadata": {},
   "outputs": [],
   "source": [
    "winnerCount"
   ]
  },
  {
   "cell_type": "code",
   "execution_count": null,
   "metadata": {},
   "outputs": [],
   "source": [
    "def bern(p):\n",
    "    tir = np.random.rand()\n",
    "    if tir < p :\n",
    "        return 0\n",
    "    else :\n",
    "        return 1\n",
    "    "
   ]
  },
  {
   "cell_type": "code",
   "execution_count": null,
   "metadata": {},
   "outputs": [],
   "source": [
    "bern(0.1)"
   ]
  },
  {
   "cell_type": "code",
   "execution_count": null,
   "metadata": {},
   "outputs": [],
   "source": [
    "# la suite des états est dans la liste X\n",
    "X = []\n",
    "x0 = 0\n",
    "probaDroite = .2\n",
    "# si dans la bern 0 on va à <- si 1 on va à ->\n",
    "p = 1. - probaDroite\n"
   ]
  },
  {
   "cell_type": "code",
   "execution_count": null,
   "metadata": {},
   "outputs": [],
   "source": [
    "import random\n",
    "def random_walk(n, p):\n",
    "    \"\"\"\n",
    "    n : number of steps\n",
    "    p : probability of moving to the right\n",
    "    \"\"\"\n",
    "    X = [0]\n",
    "    for i in range(n):\n",
    "        if random.random() < p:\n",
    "            X.append(X[-1]+1)\n",
    "        else:\n",
    "            X.append(X[-1]-1)\n",
    "    return(X)\n"
   ]
  },
  {
   "cell_type": "code",
   "execution_count": null,
   "metadata": {},
   "outputs": [],
   "source": [
    "import matplotlib.pyplot as plt\n",
    "\n",
    "% matplotlib inline"
   ]
  },
  {
   "cell_type": "code",
   "execution_count": null,
   "metadata": {},
   "outputs": [],
   "source": [
    "nb_step = 10000\n",
    "prob_right = 0.5\n",
    "visited_places = random_walk(nb_step, prob_right)\n",
    "#visited_places = [0, 1, 2, 1, 2, 3, 2, 1, 0, -1, -2]\n",
    "\n",
    "\n",
    "\n",
    "fig = plt.figure()\n",
    "ax = fig.add_subplot(111)\n",
    "ax.plot(visited_places)\n",
    "plt.show()"
   ]
  },
  {
   "cell_type": "code",
   "execution_count": null,
   "metadata": {},
   "outputs": [],
   "source": [
    "visited_places.count(0)"
   ]
  },
  {
   "cell_type": "code",
   "execution_count": null,
   "metadata": {},
   "outputs": [],
   "source": []
  }
 ],
 "metadata": {
  "anaconda-cloud": {},
  "kernelspec": {
   "display_name": "Python 3",
   "language": "python",
   "name": "python3"
  },
  "language_info": {
   "codemirror_mode": {
    "name": "ipython",
    "version": 3
   },
   "file_extension": ".py",
   "mimetype": "text/x-python",
   "name": "python",
   "nbconvert_exporter": "python",
   "pygments_lexer": "ipython3",
   "version": "3.6.5"
  }
 },
 "nbformat": 4,
 "nbformat_minor": 2
}
