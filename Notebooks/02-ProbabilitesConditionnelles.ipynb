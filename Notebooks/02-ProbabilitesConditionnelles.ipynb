{
 "cells": [
  {
   "cell_type": "markdown",
   "metadata": {},
   "source": [
    "# Probabilités conditionnelles"
   ]
  },
  {
   "cell_type": "markdown",
   "metadata": {},
   "source": [
    "Avant de commencer, regardons une [animation sympa](http://setosa.io/conditional/) sur les probabilités conditionnelles.\n",
    "\n",
    "### Exemple 1\n",
    "\n",
    "Un joueur lance successivement deux dés non pipés. \n",
    "\n",
    "Le tableau suivant montre toutes les valeurs possibles de la somme en fonction de la valeur de chaque dé : \n",
    "\n",
    "|(d1 / d2) | 1  | 2 | 3 | 4 | 5 | 6 |\n",
    "|----|----|---|---|---|---|---|\n",
    "| **1**  | 2  | 3 | 4 | 5 | 6 | 7 |\n",
    "| **2**  | 3  | 4 | 5 | 6 | 7 | 8 |\n",
    "| **3**  | 4  | 5 | 6 | 7 | 8 | 9 |\n",
    "| **4**  | 5  | 6 | 7 | 8 | 9 | 10 |\n",
    "| **5**  | 6  | 7 | 8 | 9 | 10 | 11 |\n",
    "| **6**  | 7  | 8 | 9 | 10 | 11 | 12 |\n",
    " \n",
    "Considérons maintenant l'événement *A* : \"la somme des dés est supérieure ou égale à 10\". Le tableau suivant permet de voir que $\\mathbb{P}(A) = 1/6$. Expliquez comment retrouver ce résultat.\n",
    "\n",
    "\n",
    "|(d1 / d2) | 1  | 2 | 3 | 4 | 5 | 6 |\n",
    "|----|----|---|---|---|---|---|\n",
    "| **1**  | 2  | 3 | 4 | 5 | 6 | 7 |\n",
    "| **2**  | 3  | 4 | 5 | 6 | 7 | 8 |\n",
    "| **3**  | 4  | 5 | 6 | 7 | 8 | 9 |\n",
    "| **4**  | 5  | 6 | 7 | 8 | 9 | <p style=\"color:red\"> 10 </p>| \n",
    "| **5**  | 6  | 7 | 8 | 9 | <p style=\"color:red\">10</p> | <p style=\"color:red\">11</p> |\n",
    "| **6**  | 7  | 8 | 9 | <p style=\"color:red\">10</p> | <p style=\"color:red\">11</p> | <p style=\"color:red\">12</p> |\n",
    "\n",
    "On peut simuler cette expérience en utilisant la function *rollDie*."
   ]
  },
  {
   "cell_type": "code",
   "execution_count": null,
   "metadata": {},
   "outputs": [],
   "source": [
    "import matplotlib.pyplot as plt\n",
    "import numpy as np\n",
    "from functions import roll_die\n",
    "\n",
    "% matplotlib inline\n",
    "\n",
    "def lance2des(n):\n",
    "    \"\"\"\n",
    "    Lancer deux dés non pipés n fois \n",
    "    \"\"\"\n",
    "    d1, d2 = roll_die(n), roll_die(n)\n",
    "    return(d1, d2)\n",
    "\n",
    "d1, d2 = lance2des(100)\n",
    "\n",
    "d1_plus_d2 = [i+j for i, j in zip(d1, d2)]\n",
    "values = list(set(d1_plus_d2))\n",
    "values.sort()\n",
    "frequencies = [d1_plus_d2.count(i) for i in values]\n",
    "lower_than10 = sum(frequencies[:-3])\n",
    "greater_than10 = sum(frequencies[-3:])\n",
    "labels = [\"<10\", r\"$\\geq 10$\"]\n",
    "\n",
    "\n",
    "# Doing the plot\n",
    "explode = (0, 0, 0, 0, 0, 0, 0, 0, 0.1, 0.1, 0.1) \n",
    "fig = plt.figure(figsize=(25, 15), dpi= 80, facecolor='w', edgecolor='k')\n",
    "ax1 = fig.add_subplot(221)\n",
    "ax2 = fig.add_subplot(211)\n",
    "ax1.pie(frequencies, explode=explode, labels=values, autopct='%1.1f%%',\n",
    "        shadow=True, startangle=90)\n",
    "ax1.axis('equal')  # Equal aspect ratio ensures that pie is drawn as a circle.\n",
    "\n",
    "explode = (0, 0.1) \n",
    "ax2.pie([lower_than10, greater_than10], explode=explode, labels=labels, autopct='%1.1f%%', \n",
    "        shadow=True, startangle=90)\n",
    "ax2.axis('equal')\n",
    "\n",
    "plt.show()\n",
    "#plt.pie(frequency, labels=values)"
   ]
  },
  {
   "cell_type": "markdown",
   "metadata": {},
   "source": [
    "Considérons maintenant l'événement $C$ : \"on a obtenu $4$ avec le dé numéro $1$\". Quelle serait maintenant la probabilité que la somme des dés soit supérieure ou égale à 10 ?\n",
    "\n",
    "\n",
    "|(d1 / d2) | 1  | 2 | 3 | 4 | 5 | 6 |\n",
    "|----|----|---|---|---|---|---|\n",
    "| **1**  | 2  | 3 | 4 | 5 | 6 | 7 |\n",
    "| **2**  | 3  | 4 | 5 | 6 | 7 | 8 |\n",
    "| **3**  | 4  | 5 | 6 | 7 | 8 | 9 |\n",
    "| **4**  | <p style=\"color:blue\"> 5 </p> | <p style=\"color:blue\"> 6 </p> | <p style=\"color:blue\"> 7 </p> | <p style=\"color:blue\"> 8 </p> | <p style=\"color:blue\"> 9 </p> | <p style=\"color:green\"> 10 </p>| \n",
    "| **5**  | 6  | 7 | 8 | 9 | <p style=\"color:red\">10</p> | <p style=\"color:red\">11</p> |\n",
    "| **6**  | 7  | 8 | 9 | <p style=\"color:red\">10</p> | <p style=\"color:red\">11</p> | <p style=\"color:red\">12</p> |\n",
    "\n",
    "À l'aide du tableau, on peut voir que la probabilité que la somme des points soit supérieur ou égale à $10$, étant doné qu'on a eu $4$ avec le dé numéro $1$ équivaut à compter le nombre de valeurs supérieures ou égales à $10$ qui se trouvent dans la ligne $4$ du tableau. Expliquez comment caculer cette probabilité.\n",
    "\n"
   ]
  },
  {
   "cell_type": "markdown",
   "metadata": {},
   "source": [
    "### À vous de jouer\n",
    "\n",
    "1. Vérifier à l'aide de la fonction *lance2des* que $\\mathbb{P}(A|C)$ vaut $\\frac{1}{6}$"
   ]
  },
  {
   "cell_type": "markdown",
   "metadata": {},
   "source": [
    "## Formule des probabilités totales\n",
    "\n",
    "Nous allons voir un exemple du poly du cours de Probabilités et Statistiques (Exemple 2.12 page 20). \n",
    "\n",
    "*On prend $100$ dés dont 25 sont pipés. Pour ces derniers la probabilité d'obtenir un $6$ vaut $\\frac{1}{2}$. On choisit un dé au hassard et on le lance. Calculer la probabilité d'obtenir un 6.*\n",
    "\n",
    "À l'aide de la formule des probabilités totales on a :\n",
    "\n",
    "$$\\mathbb{P}(6) = \\mathbb{P}(6\\ |\"dé\\ choisi\\ est\\ non\\ pipé\")\\mathbb{P}(\"choisir\\ un\\ dé\\ non\\ pipé\") + \\mathbb{P}(6\\ |\"dé\\ choisi\\ est\\ pipé\")\\mathbb{P}(\"choisir\\ un\\ dé\\ pipé\")$$\n",
    "$$\\mathbb{P}(6) = \\frac{1}{6}\\times\\frac{75}{100} + \\frac{1}{2}\\times\\frac{25}{100}=\\frac{1}{4}$$\n",
    "\n",
    "**À l'aide des simulations, vérifiez ce resultat.**\n",
    "\n"
   ]
  },
  {
   "cell_type": "code",
   "execution_count": null,
   "metadata": {},
   "outputs": [],
   "source": [
    "des1, des2 = lance2des(10)"
   ]
  },
  {
   "cell_type": "code",
   "execution_count": null,
   "metadata": {},
   "outputs": [],
   "source": [
    "print(\"des1= \",des1)\n",
    "print(\"des2= \",des2)"
   ]
  },
  {
   "cell_type": "code",
   "execution_count": null,
   "metadata": {},
   "outputs": [],
   "source": []
  }
 ],
 "metadata": {
  "kernelspec": {
   "display_name": "Python 3",
   "language": "python",
   "name": "python3"
  },
  "language_info": {
   "codemirror_mode": {
    "name": "ipython",
    "version": 3
   },
   "file_extension": ".py",
   "mimetype": "text/x-python",
   "name": "python",
   "nbconvert_exporter": "python",
   "pygments_lexer": "ipython3",
   "version": "3.6.5"
  }
 },
 "nbformat": 4,
 "nbformat_minor": 2
}
